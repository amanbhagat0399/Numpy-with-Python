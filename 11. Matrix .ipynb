{
 "cells": [
  {
   "cell_type": "markdown",
   "metadata": {},
   "source": [
    "### numpy.matrix"
   ]
  },
  {
   "cell_type": "markdown",
   "metadata": {},
   "source": [
    "class numpy.matrix(data, dtype=None, copy=True)"
   ]
  },
  {
   "cell_type": "code",
   "execution_count": 1,
   "metadata": {},
   "outputs": [],
   "source": [
    "import numpy as np"
   ]
  },
  {
   "cell_type": "code",
   "execution_count": 2,
   "metadata": {},
   "outputs": [
    {
     "name": "stdout",
     "output_type": "stream",
     "text": [
      "[[1 2]\n",
      " [3 4]]\n"
     ]
    }
   ],
   "source": [
    "a = np.matrix('1 2; 3 4')\n",
    "print(a)"
   ]
  },
  {
   "cell_type": "code",
   "execution_count": 4,
   "metadata": {},
   "outputs": [
    {
     "data": {
      "text/plain": [
       "matrix([[1, 2],\n",
       "        [3, 4]])"
      ]
     },
     "execution_count": 4,
     "metadata": {},
     "output_type": "execute_result"
    }
   ],
   "source": [
    "np.matrix([[1, 2], [3, 4]])"
   ]
  },
  {
   "cell_type": "code",
   "execution_count": 6,
   "metadata": {},
   "outputs": [
    {
     "data": {
      "text/plain": [
       "matrix([[1, 3],\n",
       "        [2, 4]])"
      ]
     },
     "execution_count": 6,
     "metadata": {},
     "output_type": "execute_result"
    }
   ],
   "source": [
    "a.T"
   ]
  },
  {
   "cell_type": "code",
   "execution_count": 9,
   "metadata": {},
   "outputs": [
    {
     "data": {
      "text/plain": [
       "matrix([[1, 3],\n",
       "        [2, 4]])"
      ]
     },
     "execution_count": 9,
     "metadata": {},
     "output_type": "execute_result"
    }
   ],
   "source": [
    "a.transpose()"
   ]
  },
  {
   "cell_type": "code",
   "execution_count": 11,
   "metadata": {},
   "outputs": [
    {
     "data": {
      "text/plain": [
       "matrix([[3, 4],\n",
       "        [4, 5]])"
      ]
     },
     "execution_count": 11,
     "metadata": {},
     "output_type": "execute_result"
    }
   ],
   "source": [
    "b = np.matrix([[3,4],[4,5]])\n",
    "b"
   ]
  },
  {
   "cell_type": "code",
   "execution_count": 13,
   "metadata": {},
   "outputs": [
    {
     "data": {
      "text/plain": [
       "matrix([[4, 6],\n",
       "        [7, 9]])"
      ]
     },
     "execution_count": 13,
     "metadata": {},
     "output_type": "execute_result"
    }
   ],
   "source": [
    "a+b"
   ]
  },
  {
   "cell_type": "code",
   "execution_count": 15,
   "metadata": {},
   "outputs": [
    {
     "data": {
      "text/plain": [
       "matrix([[-2, -2],\n",
       "        [-1, -1]])"
      ]
     },
     "execution_count": 15,
     "metadata": {},
     "output_type": "execute_result"
    }
   ],
   "source": [
    "a-b"
   ]
  },
  {
   "cell_type": "code",
   "execution_count": 17,
   "metadata": {},
   "outputs": [
    {
     "data": {
      "text/plain": [
       "matrix([[11, 14],\n",
       "        [25, 32]])"
      ]
     },
     "execution_count": 17,
     "metadata": {},
     "output_type": "execute_result"
    }
   ],
   "source": [
    "a*b"
   ]
  },
  {
   "cell_type": "code",
   "execution_count": 20,
   "metadata": {},
   "outputs": [
    {
     "data": {
      "text/plain": [
       "matrix([[ 7, 10],\n",
       "        [15, 22]])"
      ]
     },
     "execution_count": 20,
     "metadata": {},
     "output_type": "execute_result"
    }
   ],
   "source": [
    "a**2"
   ]
  },
  {
   "cell_type": "code",
   "execution_count": 21,
   "metadata": {},
   "outputs": [
    {
     "data": {
      "text/plain": [
       "matrix([[0.33333333, 0.5       ],\n",
       "        [0.75      , 0.8       ]])"
      ]
     },
     "execution_count": 21,
     "metadata": {},
     "output_type": "execute_result"
    }
   ],
   "source": [
    "a/b"
   ]
  },
  {
   "cell_type": "code",
   "execution_count": 22,
   "metadata": {},
   "outputs": [
    {
     "data": {
      "text/plain": [
       "matrix([[0, 0],\n",
       "        [0, 0]], dtype=int32)"
      ]
     },
     "execution_count": 22,
     "metadata": {},
     "output_type": "execute_result"
    }
   ],
   "source": [
    "a//b"
   ]
  },
  {
   "cell_type": "code",
   "execution_count": 23,
   "metadata": {},
   "outputs": [
    {
     "data": {
      "text/plain": [
       "matrix([[1, 2],\n",
       "        [3, 4]], dtype=int32)"
      ]
     },
     "execution_count": 23,
     "metadata": {},
     "output_type": "execute_result"
    }
   ],
   "source": [
    "a%b"
   ]
  },
  {
   "cell_type": "code",
   "execution_count": 24,
   "metadata": {},
   "outputs": [
    {
     "data": {
      "text/plain": [
       "matrix([[False, False],\n",
       "        [False, False]])"
      ]
     },
     "execution_count": 24,
     "metadata": {},
     "output_type": "execute_result"
    }
   ],
   "source": [
    "a==b"
   ]
  },
  {
   "cell_type": "code",
   "execution_count": 26,
   "metadata": {},
   "outputs": [
    {
     "data": {
      "text/plain": [
       "matrix([[ True,  True],\n",
       "        [ True,  True]])"
      ]
     },
     "execution_count": 26,
     "metadata": {},
     "output_type": "execute_result"
    }
   ],
   "source": [
    "a!=b"
   ]
  },
  {
   "cell_type": "code",
   "execution_count": 28,
   "metadata": {},
   "outputs": [
    {
     "data": {
      "text/plain": [
       "matrix([[ True,  True],\n",
       "        [ True,  True]])"
      ]
     },
     "execution_count": 28,
     "metadata": {},
     "output_type": "execute_result"
    }
   ],
   "source": [
    "a<b"
   ]
  },
  {
   "cell_type": "code",
   "execution_count": 30,
   "metadata": {},
   "outputs": [
    {
     "data": {
      "text/plain": [
       "matrix([[False, False],\n",
       "        [False, False]])"
      ]
     },
     "execution_count": 30,
     "metadata": {},
     "output_type": "execute_result"
    }
   ],
   "source": [
    "a>b"
   ]
  },
  {
   "cell_type": "code",
   "execution_count": 32,
   "metadata": {},
   "outputs": [
    {
     "data": {
      "text/plain": [
       "matrix([[ True,  True],\n",
       "        [ True,  True]])"
      ]
     },
     "execution_count": 32,
     "metadata": {},
     "output_type": "execute_result"
    }
   ],
   "source": [
    "a<=b"
   ]
  },
  {
   "cell_type": "code",
   "execution_count": 34,
   "metadata": {},
   "outputs": [
    {
     "data": {
      "text/plain": [
       "matrix([[False, False],\n",
       "        [False, False]])"
      ]
     },
     "execution_count": 34,
     "metadata": {},
     "output_type": "execute_result"
    }
   ],
   "source": [
    "a>=b"
   ]
  },
  {
   "cell_type": "code",
   "execution_count": 37,
   "metadata": {},
   "outputs": [
    {
     "data": {
      "text/plain": [
       "1"
      ]
     },
     "execution_count": 37,
     "metadata": {},
     "output_type": "execute_result"
    }
   ],
   "source": [
    "np.min(a)"
   ]
  },
  {
   "cell_type": "code",
   "execution_count": 39,
   "metadata": {},
   "outputs": [
    {
     "data": {
      "text/plain": [
       "4"
      ]
     },
     "execution_count": 39,
     "metadata": {},
     "output_type": "execute_result"
    }
   ],
   "source": [
    "np.max(a)"
   ]
  },
  {
   "cell_type": "code",
   "execution_count": 41,
   "metadata": {},
   "outputs": [
    {
     "data": {
      "text/plain": [
       "array([[0, 1]], dtype=int64)"
      ]
     },
     "execution_count": 41,
     "metadata": {},
     "output_type": "execute_result"
    }
   ],
   "source": [
    "np.lexsort(a)"
   ]
  },
  {
   "cell_type": "code",
   "execution_count": 43,
   "metadata": {},
   "outputs": [
    {
     "data": {
      "text/plain": [
       "matrix([[-2. ,  1. ],\n",
       "        [ 1.5, -0.5]])"
      ]
     },
     "execution_count": 43,
     "metadata": {},
     "output_type": "execute_result"
    }
   ],
   "source": [
    "a.I"
   ]
  },
  {
   "cell_type": "code",
   "execution_count": 45,
   "metadata": {},
   "outputs": [
    {
     "data": {
      "text/plain": [
       "matrix([[1, 3],\n",
       "        [2, 4]])"
      ]
     },
     "execution_count": 45,
     "metadata": {},
     "output_type": "execute_result"
    }
   ],
   "source": [
    "a.T"
   ]
  },
  {
   "cell_type": "code",
   "execution_count": 47,
   "metadata": {},
   "outputs": [
    {
     "data": {
      "text/plain": [
       "array([1, 2, 3, 4])"
      ]
     },
     "execution_count": 47,
     "metadata": {},
     "output_type": "execute_result"
    }
   ],
   "source": [
    "a.A1"
   ]
  },
  {
   "cell_type": "code",
   "execution_count": 49,
   "metadata": {},
   "outputs": [
    {
     "data": {
      "text/plain": [
       "array([[1, 2],\n",
       "       [3, 4]])"
      ]
     },
     "execution_count": 49,
     "metadata": {},
     "output_type": "execute_result"
    }
   ],
   "source": [
    "a.base"
   ]
  },
  {
   "cell_type": "code",
   "execution_count": 51,
   "metadata": {},
   "outputs": [
    {
     "data": {
      "text/plain": [
       "<memory at 0x000001DF49ADD558>"
      ]
     },
     "execution_count": 51,
     "metadata": {},
     "output_type": "execute_result"
    }
   ],
   "source": [
    "a.data"
   ]
  },
  {
   "cell_type": "code",
   "execution_count": 65,
   "metadata": {},
   "outputs": [
    {
     "data": {
      "text/plain": [
       "dtype('int32')"
      ]
     },
     "execution_count": 65,
     "metadata": {},
     "output_type": "execute_result"
    }
   ],
   "source": [
    "a.dtype"
   ]
  },
  {
   "cell_type": "code",
   "execution_count": 66,
   "metadata": {},
   "outputs": [
    {
     "data": {
      "text/plain": [
       "  C_CONTIGUOUS : True\n",
       "  F_CONTIGUOUS : False\n",
       "  OWNDATA : False\n",
       "  WRITEABLE : True\n",
       "  ALIGNED : True\n",
       "  WRITEBACKIFCOPY : False\n",
       "  UPDATEIFCOPY : False"
      ]
     },
     "execution_count": 66,
     "metadata": {},
     "output_type": "execute_result"
    }
   ],
   "source": [
    "a.flags"
   ]
  },
  {
   "cell_type": "code",
   "execution_count": 67,
   "metadata": {},
   "outputs": [
    {
     "data": {
      "text/plain": [
       "matrix([[ 0,  1,  2,  3],\n",
       "        [ 4,  5,  6,  7],\n",
       "        [ 8,  9, 10, 11]])"
      ]
     },
     "execution_count": 67,
     "metadata": {},
     "output_type": "execute_result"
    }
   ],
   "source": [
    "x = np.matrix(np.arange(12).reshape((3,4)))\n",
    "x"
   ]
  },
  {
   "cell_type": "code",
   "execution_count": 68,
   "metadata": {},
   "outputs": [
    {
     "data": {
      "text/plain": [
       "0"
      ]
     },
     "execution_count": 68,
     "metadata": {},
     "output_type": "execute_result"
    }
   ],
   "source": [
    "x.prod()"
   ]
  },
  {
   "cell_type": "code",
   "execution_count": 69,
   "metadata": {},
   "outputs": [
    {
     "data": {
      "text/plain": [
       "matrix([[  0,  45, 120, 231]])"
      ]
     },
     "execution_count": 69,
     "metadata": {},
     "output_type": "execute_result"
    }
   ],
   "source": [
    "x.prod(0)"
   ]
  },
  {
   "cell_type": "code",
   "execution_count": 71,
   "metadata": {},
   "outputs": [
    {
     "data": {
      "text/plain": [
       "array([[2., 2.],\n",
       "       [2., 2.]])"
      ]
     },
     "execution_count": 71,
     "metadata": {},
     "output_type": "execute_result"
    }
   ],
   "source": [
    "a = np.eye(2)\n",
    "b = np.ones((2, 2)) * 2\n",
    "a.dot(b)"
   ]
  },
  {
   "cell_type": "code",
   "execution_count": 84,
   "metadata": {},
   "outputs": [
    {
     "data": {
      "text/plain": [
       "array([[ 0,  1,  2,  3],\n",
       "       [ 4,  5,  6,  7],\n",
       "       [ 8,  9, 10, 11],\n",
       "       [12, 13, 14, 15]])"
      ]
     },
     "execution_count": 84,
     "metadata": {},
     "output_type": "execute_result"
    }
   ],
   "source": [
    "a = np.arange(16).reshape(4,4)\n",
    "a"
   ]
  },
  {
   "cell_type": "code",
   "execution_count": 85,
   "metadata": {},
   "outputs": [
    {
     "data": {
      "text/plain": [
       "array([ 0,  5, 10, 15])"
      ]
     },
     "execution_count": 85,
     "metadata": {},
     "output_type": "execute_result"
    }
   ],
   "source": [
    "a.diagonal()"
   ]
  },
  {
   "cell_type": "code",
   "execution_count": 87,
   "metadata": {},
   "outputs": [
    {
     "data": {
      "text/plain": [
       "array([ 1,  6, 11])"
      ]
     },
     "execution_count": 87,
     "metadata": {},
     "output_type": "execute_result"
    }
   ],
   "source": [
    "a.diagonal(1)\n"
   ]
  },
  {
   "cell_type": "code",
   "execution_count": 88,
   "metadata": {},
   "outputs": [
    {
     "data": {
      "text/plain": [
       "array([3])"
      ]
     },
     "execution_count": 88,
     "metadata": {},
     "output_type": "execute_result"
    }
   ],
   "source": [
    "a.diagonal(3)"
   ]
  },
  {
   "cell_type": "code",
   "execution_count": null,
   "metadata": {},
   "outputs": [],
   "source": []
  },
  {
   "cell_type": "markdown",
   "metadata": {},
   "source": [
    "##### Attributes:\t\n",
    "A\n",
    "Return self as an ndarray object.\n",
    "\n",
    "A1\n",
    "Return self as a flattened ndarray.\n",
    "\n",
    "H\n",
    "Returns the (complex) conjugate transpose of self.\n",
    "\n",
    "I\n",
    "Returns the (multiplicative) inverse of invertible self.\n",
    "\n",
    "T\n",
    "Returns the transpose of the matrix.\n",
    "\n",
    "base\n",
    "Base object if memory is from some other object.\n",
    "\n",
    "ctypes\n",
    "An object to simplify the interaction of the array with the ctypes module.\n",
    "\n",
    "data\n",
    "Python buffer object pointing to the start of the array’s data.\n",
    "\n",
    "dtype\n",
    "Data-type of the array’s elements.\n",
    "\n",
    "flags\n",
    "Information about the memory layout of the array.\n",
    "\n",
    "flat\n",
    "A 1-D iterator over the array.\n",
    "\n",
    "imag\n",
    "The imaginary part of the array.\n",
    "\n",
    "itemsize\n",
    "Length of one array element in bytes.\n",
    "\n",
    "nbytes\n",
    "Total bytes consumed by the elements of the array.\n",
    "\n",
    "ndim\n",
    "Number of array dimensions.\n",
    "\n",
    "real\n",
    "The real part of the array.\n",
    "\n",
    "shape\n",
    "Tuple of array dimensions.\n",
    "\n",
    "size\n",
    "Number of elements in the array.\n",
    "\n",
    "strides\n",
    "Tuple of bytes to step in each dimension when traversing an array."
   ]
  },
  {
   "cell_type": "raw",
   "metadata": {},
   "source": [
    "# Methods\n",
    "\n",
    "all([axis, out])\tTest whether all matrix elements along a given axis evaluate to True.\n",
    "any([axis, out])\tTest whether any array element along a given axis evaluates to True.\n",
    "argmax([axis, out])\tIndexes of the maximum values along an axis.\n",
    "argmin([axis, out])\tIndexes of the minimum values along an axis.\n",
    "argpartition(kth[, axis, kind, order])\tReturns the indices that would partition this array.\n",
    "argsort([axis, kind, order])\tReturns the indices that would sort this array.\n",
    "astype(dtype[, order, casting, subok, copy])\tCopy of the array, cast to a specified type.\n",
    "byteswap([inplace])\tSwap the bytes of the array elements\n",
    "choose(choices[, out, mode])\tUse an index array to construct a new array from a set of choices.\n",
    "clip([min, max, out])\tReturn an array whose values are limited to [min, max].\n",
    "compress(condition[, axis, out])\tReturn selected slices of this array along given axis.\n",
    "conj()\tComplex-conjugate all elements.\n",
    "conjugate()\tReturn the complex conjugate, element-wise.\n",
    "copy([order])\tReturn a copy of the array.\n",
    "cumprod([axis, dtype, out])\tReturn the cumulative product of the elements along the given axis.\n",
    "cumsum([axis, dtype, out])\tReturn the cumulative sum of the elements along the given axis.\n",
    "diagonal([offset, axis1, axis2])\tReturn specified diagonals.\n",
    "dot(b[, out])\tDot product of two arrays.\n",
    "dump(file)\tDump a pickle of the array to the specified file.\n",
    "dumps()\tReturns the pickle of the array as a string.\n",
    "fill(value)\tFill the array with a scalar value.\n",
    "flatten([order])\tReturn a flattened copy of the matrix.\n",
    "getA()\tReturn self as an ndarray object.\n",
    "getA1()\tReturn self as a flattened ndarray.\n",
    "getH()\tReturns the (complex) conjugate transpose of self.\n",
    "getI()\tReturns the (multiplicative) inverse of invertible self.\n",
    "getT()\tReturns the transpose of the matrix.\n",
    "getfield(dtype[, offset])\tReturns a field of the given array as a certain type.\n",
    "item(*args)\tCopy an element of an array to a standard Python scalar and return it.\n",
    "itemset(*args)\tInsert scalar into an array (scalar is cast to array’s dtype, if possible)\n",
    "max([axis, out])\tReturn the maximum value along an axis.\n",
    "mean([axis, dtype, out])\tReturns the average of the matrix elements along the given axis.\n",
    "min([axis, out])\tReturn the minimum value along an axis.\n",
    "newbyteorder([new_order])\tReturn the array with the same data viewed with a different byte order.\n",
    "nonzero()\tReturn the indices of the elements that are non-zero.\n",
    "partition(kth[, axis, kind, order])\tRearranges the elements in the array in such a way that the value of the element in kth position is in the position it would be in a sorted array.\n",
    "prod([axis, dtype, out])\tReturn the product of the array elements over the given axis.\n",
    "ptp([axis, out])\tPeak-to-peak (maximum - minimum) value along the given axis.\n",
    "put(indices, values[, mode])\tSet a.flat[n] = values[n] for all n in indices.\n",
    "ravel([order])\tReturn a flattened matrix.\n",
    "repeat(repeats[, axis])\tRepeat elements of an array.\n",
    "reshape(shape[, order])\tReturns an array containing the same data with a new shape.\n",
    "resize(new_shape[, refcheck])\tChange shape and size of array in-place.\n",
    "round([decimals, out])\tReturn a with each element rounded to the given number of decimals.\n",
    "searchsorted(v[, side, sorter])\tFind indices where elements of v should be inserted in a to maintain order.\n",
    "setfield(val, dtype[, offset])\tPut a value into a specified place in a field defined by a data-type.\n",
    "setflags([write, align, uic])\tSet array flags WRITEABLE, ALIGNED, (WRITEBACKIFCOPY and UPDATEIFCOPY), respectively.\n",
    "sort([axis, kind, order])\tSort an array, in-place.\n",
    "squeeze([axis])\tReturn a possibly reshaped matrix.\n",
    "std([axis, dtype, out, ddof])\tReturn the standard deviation of the array elements along the given axis.\n",
    "sum([axis, dtype, out])\tReturns the sum of the matrix elements, along the given axis.\n",
    "swapaxes(axis1, axis2)\tReturn a view of the array with axis1 and axis2 interchanged.\n",
    "take(indices[, axis, out, mode])\tReturn an array formed from the elements of a at the given indices.\n",
    "tobytes([order])\tConstruct Python bytes containing the raw data bytes in the array.\n",
    "tofile(fid[, sep, format])\tWrite array to a file as text or binary (default).\n",
    "tolist()\tReturn the matrix as a (possibly nested) list.\n",
    "tostring([order])\tConstruct Python bytes containing the raw data bytes in the array.\n",
    "trace([offset, axis1, axis2, dtype, out])\tReturn the sum along diagonals of the array.\n",
    "transpose(*axes)\tReturns a view of the array with axes transposed.\n",
    "var([axis, dtype, out, ddof])\tReturns the variance of the matrix elements, along the given axis.\n",
    "view([dtype, type])\tNew view of array with the same data."
   ]
  }
 ],
 "metadata": {
  "kernelspec": {
   "display_name": "Python 3",
   "language": "python",
   "name": "python3"
  },
  "language_info": {
   "codemirror_mode": {
    "name": "ipython",
    "version": 3
   },
   "file_extension": ".py",
   "mimetype": "text/x-python",
   "name": "python",
   "nbconvert_exporter": "python",
   "pygments_lexer": "ipython3",
   "version": "3.6.3"
  }
 },
 "nbformat": 4,
 "nbformat_minor": 2
}
