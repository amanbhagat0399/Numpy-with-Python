{
 "cells": [
  {
   "cell_type": "markdown",
   "metadata": {},
   "source": [
    "### The Basics"
   ]
  },
  {
   "cell_type": "markdown",
   "metadata": {},
   "source": [
    "NumPy’s main object is the homogeneous multidimensional array. It is a table of elements (usually numbers), all of the same type, indexed by a tuple of positive integers. In NumPy dimensions are called axes.\n",
    "\n",
    "For example, the coordinates of a point in 3D space [1, 2, 1] has one axis. That axis has 3 elements in it, so we say it has a length of 3. In the example pictured below, the array has 2 axes. The first axis has a length of 2, the second axis has a length of 3."
   ]
  },
  {
   "cell_type": "raw",
   "metadata": {},
   "source": [
    "[[ 1., 0., 0.],\n",
    " [ 0., 1., 2.]]"
   ]
  },
  {
   "cell_type": "markdown",
   "metadata": {},
   "source": [
    "NumPy’s array class is called ndarray. It is also known by the alias array. Note that numpy.array is not the same as the Standard Python Library class array.array, which only handles one-dimensional arrays and offers less functionality. The more important attributes of an ndarray object are:\n",
    "\n",
    "#### ndarray.ndim\n",
    "\n",
    "the number of axes (dimensions) of the array.\n",
    "\n",
    "#### ndarray.shape\n",
    "\n",
    "the dimensions of the array. This is a tuple of integers indicating the size of the array in each dimension. For a matrix with n rows and m columns, shape will be (n,m). The length of the shape tuple is therefore the number of axes, ndim.\n",
    "\n",
    "#### ndarray.size\n",
    "\n",
    "the total number of elements of the array. This is equal to the product of the elements of shape.\n",
    "\n",
    "#### ndarray.dtype\n",
    "\n",
    "an object describing the type of the elements in the array. One can create or specify dtype’s using standard Python types. Additionally NumPy provides types of its own. numpy.int32, numpy.int16, and numpy.float64 are some examples.\n",
    "\n",
    "#### ndarray.itemsize\n",
    "\n",
    "the size in bytes of each element of the array. For example, an array of elements of type float64 has itemsize 8 (=64/8), while one of type complex32 has itemsize 4 (=32/8). It is equivalent to ndarray.dtype.itemsize.\n",
    "\n",
    "#### ndarray.data\n",
    "\n",
    "the buffer containing the actual elements of the array. Normally, we won’t need to use this attribute because we will access the elements in an array using indexing facilities."
   ]
  },
  {
   "cell_type": "code",
   "execution_count": 54,
   "metadata": {},
   "outputs": [],
   "source": [
    "import numpy as np\n",
    "import matplotlib.pyplot as plt"
   ]
  },
  {
   "cell_type": "code",
   "execution_count": 55,
   "metadata": {},
   "outputs": [
    {
     "name": "stdout",
     "output_type": "stream",
     "text": [
      "(3, 5) Shape of 'a' array\n",
      "\n",
      "2 Dimension of an array\n",
      "\n",
      "int32 Data type\n",
      " \n",
      "4 Find the iteamsize in array\n",
      " \n",
      "15 size oF an array\n",
      "\n",
      "<class 'numpy.ndarray'>\n",
      "<class 'numpy.ndarray'> [6 7 8]\n"
     ]
    }
   ],
   "source": [
    "b = np.array([6, 7, 8])\n",
    "a = np.arange(15).reshape(3, 5)\n",
    "print(a.shape,\"Shape of 'a' array\\n\")\n",
    "print(a.ndim,\"Dimension of an array\\n\")\n",
    "print(a.dtype.name,\"Data type\\n \")\n",
    "print(a.itemsize,\"Find the iteamsize in array\\n \")\n",
    "print(a.size,\"size oF an array\\n\")\n",
    "print(type(a))\n",
    "print(type(b),b)"
   ]
  },
  {
   "cell_type": "markdown",
   "metadata": {},
   "source": [
    "### Array Creation\n",
    "There are several ways to create arrays.\n",
    "\n",
    "For example, you can create an array from a regular Python list or tuple using the array function. The type of the resulting array is deduced from the type of the elements in the sequences."
   ]
  },
  {
   "cell_type": "code",
   "execution_count": 56,
   "metadata": {},
   "outputs": [
    {
     "name": "stdout",
     "output_type": "stream",
     "text": [
      "int32\n",
      "float64\n"
     ]
    }
   ],
   "source": [
    "import numpy as np\n",
    "a = np.array([2,3,4])\n",
    "print(a.dtype)\n",
    "b = np.array([1.2, 3.5, 5.1])\n",
    "print(b.dtype)"
   ]
  },
  {
   "cell_type": "markdown",
   "metadata": {},
   "source": [
    "A frequent error consists in calling array with multiple numeric arguments, rather than providing a single list of numbers as an argument."
   ]
  },
  {
   "cell_type": "code",
   "execution_count": 57,
   "metadata": {},
   "outputs": [],
   "source": [
    "#a = np.array(1,2,3,4)    # WRONG\n",
    "a = np.array([1,2,3,4])  # RIGHT"
   ]
  },
  {
   "cell_type": "markdown",
   "metadata": {},
   "source": [
    "array transforms sequences of sequences into two-dimensional arrays, sequences of sequences of sequences into three-dimensional arrays, and so on."
   ]
  },
  {
   "cell_type": "code",
   "execution_count": 58,
   "metadata": {},
   "outputs": [
    {
     "data": {
      "text/plain": [
       "(2, 3)"
      ]
     },
     "execution_count": 58,
     "metadata": {},
     "output_type": "execute_result"
    }
   ],
   "source": [
    "b = np.array([(1.5,2,3), (4,5,6)])\n",
    "b.size\n",
    "b.shape"
   ]
  },
  {
   "cell_type": "markdown",
   "metadata": {},
   "source": [
    "The type of the array can also be explicitly specified at creation time:"
   ]
  },
  {
   "cell_type": "code",
   "execution_count": 59,
   "metadata": {},
   "outputs": [
    {
     "data": {
      "text/plain": [
       "array([[1.+0.j, 2.+0.j],\n",
       "       [3.+0.j, 4.+0.j]])"
      ]
     },
     "execution_count": 59,
     "metadata": {},
     "output_type": "execute_result"
    }
   ],
   "source": [
    "c = np.array( [ [1,2], [3,4] ], dtype=complex )\n",
    "c"
   ]
  },
  {
   "cell_type": "markdown",
   "metadata": {},
   "source": [
    "Often, the elements of an array are originally unknown, but its size is known. Hence, NumPy offers several functions to create arrays with initial placeholder content. These minimize the necessity of growing arrays, an expensive operation.\n",
    "\n",
    "The function zeros creates an array full of zeros, the function ones creates an array full of ones, and the function empty creates an array whose initial content is random and depends on the state of the memory. By default, the dtype of the created array is float64."
   ]
  },
  {
   "cell_type": "code",
   "execution_count": 60,
   "metadata": {},
   "outputs": [
    {
     "data": {
      "text/plain": [
       "array([[0., 0., 0., 0.],\n",
       "       [0., 0., 0., 0.],\n",
       "       [0., 0., 0., 0.]])"
      ]
     },
     "execution_count": 60,
     "metadata": {},
     "output_type": "execute_result"
    }
   ],
   "source": [
    "x = np.zeros((3,4))\n",
    "x"
   ]
  },
  {
   "cell_type": "code",
   "execution_count": 61,
   "metadata": {},
   "outputs": [
    {
     "data": {
      "text/plain": [
       "array([[[1, 1, 1, 1],\n",
       "        [1, 1, 1, 1],\n",
       "        [1, 1, 1, 1]],\n",
       "\n",
       "       [[1, 1, 1, 1],\n",
       "        [1, 1, 1, 1],\n",
       "        [1, 1, 1, 1]]], dtype=int16)"
      ]
     },
     "execution_count": 61,
     "metadata": {},
     "output_type": "execute_result"
    }
   ],
   "source": [
    "x = np.ones( (2,3,4), dtype=np.int16 )\n",
    "x"
   ]
  },
  {
   "cell_type": "code",
   "execution_count": 62,
   "metadata": {},
   "outputs": [
    {
     "data": {
      "text/plain": [
       "array([[ 0.,  5., 10.],\n",
       "       [15., 20., 25.]])"
      ]
     },
     "execution_count": 62,
     "metadata": {},
     "output_type": "execute_result"
    }
   ],
   "source": [
    "d = np.empty( (2,3) )\n",
    "d"
   ]
  },
  {
   "cell_type": "code",
   "execution_count": 63,
   "metadata": {},
   "outputs": [
    {
     "name": "stdout",
     "output_type": "stream",
     "text": [
      "[10 15 20 25]\n",
      "[0.  0.3 0.6 0.9 1.2 1.5 1.8]\n"
     ]
    }
   ],
   "source": [
    "e = np.arange( 10, 30, 5 )\n",
    "print(e)\n",
    "f = np.arange( 0, 2, 0.3 ) \n",
    "print(f)"
   ]
  },
  {
   "cell_type": "code",
   "execution_count": 64,
   "metadata": {},
   "outputs": [
    {
     "name": "stdout",
     "output_type": "stream",
     "text": [
      "[0.   0.25 0.5  0.75 1.   1.25 1.5  1.75 2.  ]\n"
     ]
    }
   ],
   "source": [
    "from numpy import pi\n",
    "g = np.linspace( 0, 2, 9) \n",
    "print(g)"
   ]
  },
  {
   "cell_type": "code",
   "execution_count": 65,
   "metadata": {},
   "outputs": [
    {
     "name": "stdout",
     "output_type": "stream",
     "text": [
      "[0.         0.6981317  1.3962634  2.0943951  2.7925268  3.4906585\n",
      " 4.1887902  4.88692191 5.58505361 6.28318531] xy Variable has linspace is\n",
      "\n",
      "[0.         0.6981317  1.3962634  2.0943951  2.7925268  3.4906585\n",
      " 4.1887902  4.88692191 5.58505361 6.28318531] linspace with pi\n",
      " [ 0.00000000e+00  6.42787610e-01  9.84807753e-01  8.66025404e-01\n",
      "  3.42020143e-01 -3.42020143e-01 -8.66025404e-01 -9.84807753e-01\n",
      " -6.42787610e-01 -2.44929360e-16] sin on xy\n"
     ]
    }
   ],
   "source": [
    "xy = np.linspace( 0, 2*pi, 10) \n",
    "print(xy,\"xy Variable has linspace is\\n\")\n",
    "f = np.sin(xy)\n",
    "print(xy,\"linspace with pi\\n\",f,\"sin on xy\")"
   ]
  },
  {
   "cell_type": "markdown",
   "metadata": {},
   "source": [
    "### Printing Arrays\n",
    "When you print an array, NumPy displays it in a similar way to nested lists, but with the following layout:\n",
    "\n",
    "the last axis is printed from left to right,\n",
    "the second-to-last is printed from top to bottom,\n",
    "the rest are also printed from top to bottom, with each slice separated from the next by an empty line.\n",
    "One-dimensional arrays are then printed as rows, bidimensionals as matrices and tridimensionals as lists of matrices."
   ]
  },
  {
   "cell_type": "code",
   "execution_count": 66,
   "metadata": {},
   "outputs": [
    {
     "name": "stdout",
     "output_type": "stream",
     "text": [
      "[0 1 2 3 4 5] 1d array\n",
      "\n",
      "[[ 0  1  2]\n",
      " [ 3  4  5]\n",
      " [ 6  7  8]\n",
      " [ 9 10 11]] 2d array\n",
      "\n",
      "[[[ 0  1  2  3]\n",
      "  [ 4  5  6  7]\n",
      "  [ 8  9 10 11]]\n",
      "\n",
      " [[12 13 14 15]\n",
      "  [16 17 18 19]\n",
      "  [20 21 22 23]]] 3d array\n",
      "\n"
     ]
    }
   ],
   "source": [
    "a = np.arange(6)                         # 1d array\n",
    "print(a,'1d array\\n')\n",
    "\n",
    "b = np.arange(12).reshape(4,3)           # 2d array\n",
    "print(b,\"2d array\\n\")\n",
    "\n",
    "c = np.arange(24).reshape(2,3,4)         # 3d array\n",
    "print(c,\"3d array\\n\")"
   ]
  },
  {
   "cell_type": "markdown",
   "metadata": {},
   "source": [
    "If an array is too large to be printed, NumPy automatically skips the central part of the array and only prints the corners:"
   ]
  },
  {
   "cell_type": "code",
   "execution_count": 67,
   "metadata": {},
   "outputs": [
    {
     "name": "stdout",
     "output_type": "stream",
     "text": [
      "[   0    1    2 ... 9997 9998 9999] \n",
      "Printing all range of values from 0 to 10000\n"
     ]
    }
   ],
   "source": [
    "print(np.arange(10000),\"\\nPrinting all range of values from 0 to 10000\")\n"
   ]
  },
  {
   "cell_type": "code",
   "execution_count": 68,
   "metadata": {},
   "outputs": [
    {
     "name": "stdout",
     "output_type": "stream",
     "text": [
      "[[   0    1    2 ...   97   98   99]\n",
      " [ 100  101  102 ...  197  198  199]\n",
      " [ 200  201  202 ...  297  298  299]\n",
      " ...\n",
      " [9700 9701 9702 ... 9797 9798 9799]\n",
      " [9800 9801 9802 ... 9897 9898 9899]\n",
      " [9900 9901 9902 ... 9997 9998 9999]] \n",
      "Printing all range of values from 0 to 10000\n"
     ]
    }
   ],
   "source": [
    "print(np.arange(10000).reshape(100,100),\"\\nPrinting all range of values from 0 to 10000\")"
   ]
  },
  {
   "cell_type": "code",
   "execution_count": 69,
   "metadata": {},
   "outputs": [
    {
     "data": {
      "text/plain": [
       "array([[1, 0, 0, 0],\n",
       "       [0, 2, 0, 0],\n",
       "       [0, 0, 3, 0],\n",
       "       [0, 0, 0, 4]])"
      ]
     },
     "execution_count": 69,
     "metadata": {},
     "output_type": "execute_result"
    }
   ],
   "source": [
    "d = np.diag(np.array([1, 2, 3, 4]))\n",
    "d"
   ]
  },
  {
   "cell_type": "code",
   "execution_count": 70,
   "metadata": {},
   "outputs": [],
   "source": [
    "a = np.random.seed(1) # Setting the random seed"
   ]
  },
  {
   "cell_type": "markdown",
   "metadata": {},
   "source": [
    "To disable this behaviour and force NumPy to print the entire array, you can change the printing options using set_printoptions."
   ]
  },
  {
   "cell_type": "raw",
   "metadata": {},
   "source": [
    "np.set_printoptions(threshold=np.nan)"
   ]
  },
  {
   "cell_type": "code",
   "execution_count": 71,
   "metadata": {},
   "outputs": [
    {
     "data": {
      "image/png": "[encoded data removed]",
      "text/plain": [
       "<Figure size 432x288 with 1 Axes>"
      ]
     },
     "metadata": {
      "needs_background": "light"
     },
     "output_type": "display_data"
    }
   ],
   "source": [
    "x = np.linspace(0, 3,50)\n",
    "y = np.linspace(0, 9, 50)\n",
    "plt.plot(x, y) # line plot\n",
    "plt.plot(x,y ,'oy') # dot plot\n",
    "plt.show()"
   ]
  },
  {
   "cell_type": "code",
   "execution_count": 72,
   "metadata": {},
   "outputs": [
    {
     "data": {
      "text/plain": [
       "array([[ 1.62434536e+00, -6.11756414e-01, -5.28171752e-01,\n",
       "        -1.07296862e+00,  8.65407629e-01, -2.30153870e+00,\n",
       "         1.74481176e+00, -7.61206901e-01,  3.19039096e-01,\n",
       "        -2.49370375e-01,  1.46210794e+00, -2.06014071e+00,\n",
       "        -3.22417204e-01, -3.84054355e-01,  1.13376944e+00,\n",
       "        -1.09989127e+00, -1.72428208e-01, -8.77858418e-01,\n",
       "         4.22137467e-02,  5.82815214e-01, -1.10061918e+00,\n",
       "         1.14472371e+00,  9.01590721e-01,  5.02494339e-01,\n",
       "         9.00855949e-01, -6.83727859e-01, -1.22890226e-01,\n",
       "        -9.35769434e-01, -2.67888080e-01,  5.30355467e-01],\n",
       "       [-6.91660752e-01, -3.96753527e-01, -6.87172700e-01,\n",
       "        -8.45205641e-01, -6.71246131e-01, -1.26645989e-02,\n",
       "        -1.11731035e+00,  2.34415698e-01,  1.65980218e+00,\n",
       "         7.42044161e-01, -1.91835552e-01, -8.87628964e-01,\n",
       "        -7.47158294e-01,  1.69245460e+00,  5.08077548e-02,\n",
       "        -6.36995647e-01,  1.90915485e-01,  2.10025514e+00,\n",
       "         1.20158952e-01,  6.17203110e-01,  3.00170320e-01,\n",
       "        -3.52249846e-01, -1.14251820e+00, -3.49342722e-01,\n",
       "        -2.08894233e-01,  5.86623191e-01,  8.38983414e-01,\n",
       "         9.31102081e-01,  2.85587325e-01,  8.85141164e-01],\n",
       "       [-7.54397941e-01,  1.25286816e+00,  5.12929820e-01,\n",
       "        -2.98092835e-01,  4.88518147e-01, -7.55717130e-02,\n",
       "         1.13162939e+00,  1.51981682e+00,  2.18557541e+00,\n",
       "        -1.39649634e+00, -1.44411381e+00, -5.04465863e-01,\n",
       "         1.60037069e-01,  8.76168921e-01,  3.15634947e-01,\n",
       "        -2.02220122e+00, -3.06204013e-01,  8.27974643e-01,\n",
       "         2.30094735e-01,  7.62011180e-01, -2.22328143e-01,\n",
       "        -2.00758069e-01,  1.86561391e-01,  4.10051647e-01,\n",
       "         1.98299720e-01,  1.19008646e-01, -6.70662286e-01,\n",
       "         3.77563786e-01,  1.21821271e-01,  1.12948391e+00],\n",
       "       [ 1.19891788e+00,  1.85156417e-01, -3.75284950e-01,\n",
       "        -6.38730407e-01,  4.23494354e-01,  7.73400683e-02,\n",
       "        -3.43853676e-01,  4.35968568e-02, -6.20000844e-01,\n",
       "         6.98032034e-01, -4.47128565e-01,  1.22450770e+00,\n",
       "         4.03491642e-01,  5.93578523e-01, -1.09491185e+00,\n",
       "         1.69382433e-01,  7.40556451e-01, -9.53700602e-01,\n",
       "        -2.66218506e-01,  3.26145467e-02, -1.37311732e+00,\n",
       "         3.15159392e-01,  8.46160648e-01, -8.59515941e-01,\n",
       "         3.50545979e-01, -1.31228341e+00, -3.86955093e-02,\n",
       "        -1.61577235e+00,  1.12141771e+00,  4.08900538e-01],\n",
       "       [-2.46169559e-02, -7.75161619e-01,  1.27375593e+00,\n",
       "         1.96710175e+00, -1.85798186e+00,  1.23616403e+00,\n",
       "         1.62765075e+00,  3.38011697e-01, -1.19926803e+00,\n",
       "         8.63345318e-01, -1.80920302e-01, -6.03920628e-01,\n",
       "        -1.23005814e+00,  5.50537496e-01,  7.92806866e-01,\n",
       "        -6.23530730e-01,  5.20576337e-01, -1.14434139e+00,\n",
       "         8.01861032e-01,  4.65672984e-02, -1.86569772e-01,\n",
       "        -1.01745873e-01,  8.68886157e-01,  7.50411640e-01,\n",
       "         5.29465324e-01,  1.37701210e-01,  7.78211279e-02,\n",
       "         6.18380262e-01,  2.32494559e-01,  6.82551407e-01],\n",
       "       [-3.10116774e-01, -2.43483776e+00,  1.03882460e+00,\n",
       "         2.18697965e+00,  4.41364444e-01, -1.00155233e-01,\n",
       "        -1.36444744e-01, -1.19054188e-01,  1.74094083e-02,\n",
       "        -1.12201873e+00, -5.17094458e-01, -9.97026828e-01,\n",
       "         2.48799161e-01, -2.96641152e-01,  4.95211324e-01,\n",
       "        -1.74703160e-01,  9.86335188e-01,  2.13533901e-01,\n",
       "         2.19069973e+00, -1.89636092e+00, -6.46916688e-01,\n",
       "         9.01486892e-01,  2.52832571e+00, -2.48634778e-01,\n",
       "         4.36689932e-02, -2.26314243e-01,  1.33145711e+00,\n",
       "        -2.87307863e-01,  6.80069840e-01, -3.19801599e-01],\n",
       "       [-1.27255876e+00,  3.13547720e-01,  5.03184813e-01,\n",
       "         1.29322588e+00, -1.10447026e-01, -6.17362064e-01,\n",
       "         5.62761097e-01,  2.40737092e-01,  2.80665077e-01,\n",
       "        -7.31127037e-02,  1.16033857e+00,  3.69492716e-01,\n",
       "         1.90465871e+00,  1.11105670e+00,  6.59049796e-01,\n",
       "        -1.62743834e+00,  6.02319280e-01,  4.20282204e-01,\n",
       "         8.10951673e-01,  1.04444209e+00, -4.00878192e-01,\n",
       "         8.24005618e-01, -5.62305431e-01,  1.95487808e+00,\n",
       "        -1.33195167e+00, -1.76068856e+00, -1.65072127e+00,\n",
       "        -8.90555584e-01, -1.11911540e+00,  1.95607890e+00],\n",
       "       [-3.26499498e-01, -1.34267579e+00,  1.11438298e+00,\n",
       "        -5.86523939e-01, -1.23685338e+00,  8.75838928e-01,\n",
       "         6.23362177e-01, -4.34956683e-01,  1.40754000e+00,\n",
       "         1.29101580e-01,  1.61694960e+00,  5.02740882e-01,\n",
       "         1.55880554e+00,  1.09402696e-01, -1.21974440e+00,\n",
       "         2.44936865e+00, -5.45774168e-01, -1.98837863e-01,\n",
       "        -7.00398505e-01, -2.03394449e-01,  2.42669441e-01,\n",
       "         2.01830179e-01,  6.61020288e-01,  1.79215821e+00,\n",
       "        -1.20464572e-01, -1.23312074e+00, -1.18231813e+00,\n",
       "        -6.65754518e-01, -1.67419581e+00,  8.25029824e-01],\n",
       "       [-4.98213564e-01, -3.10984978e-01, -1.89148284e-03,\n",
       "        -1.39662042e+00, -8.61316361e-01,  6.74711526e-01,\n",
       "         6.18539131e-01, -4.43171931e-01,  1.81053491e+00,\n",
       "        -1.30572692e+00, -3.44987210e-01, -2.30839743e-01,\n",
       "        -2.79308500e+00,  1.93752881e+00,  3.66332015e-01,\n",
       "        -1.04458938e+00,  2.05117344e+00,  5.85662000e-01,\n",
       "         4.29526140e-01, -6.06998398e-01,  1.06222724e-01,\n",
       "        -1.52568032e+00,  7.95026094e-01, -3.74438319e-01,\n",
       "         1.34048197e-01,  1.20205486e+00,  2.84748111e-01,\n",
       "         2.62467445e-01,  2.76499305e-01, -7.33271604e-01],\n",
       "       [ 8.36004719e-01,  1.54335911e+00,  7.58805660e-01,\n",
       "         8.84908814e-01, -8.77281519e-01, -8.67787223e-01,\n",
       "        -1.44087602e+00,  1.23225307e+00, -2.54179868e-01,\n",
       "         1.39984394e+00, -7.81911683e-01, -4.37508983e-01,\n",
       "         9.54250872e-02,  9.21450069e-01,  6.07501958e-02,\n",
       "         2.11124755e-01,  1.65275673e-02,  1.77187720e-01,\n",
       "        -1.11647002e+00,  8.09271010e-02, -1.86578994e-01,\n",
       "        -5.68244809e-02,  4.92336556e-01, -6.80678141e-01,\n",
       "        -8.45080274e-02, -2.97361883e-01,  4.17302005e-01,\n",
       "         7.84770651e-01, -9.55425262e-01,  5.85910431e-01],\n",
       "       [ 2.06578332e+00, -1.47115693e+00, -8.30171895e-01,\n",
       "        -8.80577600e-01, -2.79097722e-01,  1.62284909e+00,\n",
       "         1.33526763e-02, -6.94693595e-01,  6.21803504e-01,\n",
       "        -5.99804531e-01,  1.12341216e+00,  3.05267040e-01,\n",
       "         1.38877940e+00, -6.61344243e-01,  3.03085711e+00,\n",
       "         8.24584625e-01,  6.54580153e-01, -5.11884476e-02,\n",
       "        -7.25597119e-01, -8.67768678e-01, -1.35977326e-01,\n",
       "        -7.97269785e-01,  2.82675712e-01, -8.26097432e-01,\n",
       "         6.21082701e-01,  9.56121704e-01, -7.05840507e-01,\n",
       "         1.19268607e+00, -2.37941936e-01,  1.15528789e+00],\n",
       "       [ 4.38166347e-01,  1.12232832e+00, -9.97019796e-01,\n",
       "        -1.06793987e-01,  1.45142926e+00, -6.18036848e-01,\n",
       "        -2.03720123e+00, -1.94258918e+00, -2.50644065e+00,\n",
       "        -2.11416392e+00, -4.11639163e-01,  1.27852808e+00,\n",
       "        -4.42229280e-01,  3.23527354e-01, -1.09991490e-01,\n",
       "         8.54894544e-03, -1.68198840e-01, -1.74180344e-01,\n",
       "         4.61164100e-01, -1.17598267e+00,  1.01012718e+00,\n",
       "         9.20017933e-01, -1.95057341e-01,  8.05393424e-01,\n",
       "        -7.01344426e-01, -5.37223024e-01,  1.56263850e-01,\n",
       "        -1.90221025e-01, -4.48738033e-01, -6.72448039e-01],\n",
       "       [-5.57494722e-01,  9.39168744e-01, -1.94332341e+00,\n",
       "         3.52494364e-01, -2.36436952e-01,  7.27813500e-01,\n",
       "         5.15073614e-01, -2.78253447e+00,  5.84646610e-01,\n",
       "         3.24274243e-01,  2.18628366e-02, -4.68673816e-01,\n",
       "         8.53281222e-01, -4.13029310e-01,  1.83471763e+00,\n",
       "         5.64382855e-01,  2.13782807e+00, -7.85533997e-01,\n",
       "        -1.75592564e+00,  7.14789597e-01,  8.52704062e-01,\n",
       "         3.53600971e-02, -1.53879325e+00, -4.47895185e-01,\n",
       "         6.17985534e-01, -1.84176326e-01, -1.15985185e-01,\n",
       "        -1.75458969e-01, -9.33914656e-01, -5.33020326e-01],\n",
       "       [-1.42655542e+00,  1.76795995e+00, -4.75372875e-01,\n",
       "         4.77610182e-01, -1.02188594e+00,  7.94528240e-01,\n",
       "        -1.87316098e+00,  9.20615118e-01, -3.53679249e-02,\n",
       "         2.11060505e+00, -1.30653407e+00,  7.63804802e-02,\n",
       "         3.67231814e-01,  1.23289919e+00, -4.22856961e-01,\n",
       "         8.64644065e-02, -2.14246673e+00, -8.30168864e-01,\n",
       "         4.51615951e-01,  1.10417433e+00, -2.81736269e-01,\n",
       "         2.05635552e+00,  1.76024923e+00, -6.06524918e-02,\n",
       "        -2.41350300e+00, -1.77756638e+00, -7.77858827e-01,\n",
       "         1.11584111e+00,  3.10272288e-01, -2.09424782e+00],\n",
       "       [-2.28765829e-01,  1.61336137e+00, -3.74804687e-01,\n",
       "        -7.49969617e-01,  2.05462410e+00,  5.34095368e-02,\n",
       "        -4.79157099e-01,  3.50167159e-01,  1.71647264e-02,\n",
       "        -4.29142278e-01,  1.20845633e+00,  1.11570180e+00,\n",
       "         8.40861558e-01, -1.02887218e-01,  1.14690038e+00,\n",
       "        -4.97025792e-02,  4.66643267e-01,  1.03368687e+00,\n",
       "         8.08844360e-01,  1.78975468e+00,  4.51284016e-01,\n",
       "        -1.68405999e+00, -1.16017010e+00,  1.35010682e+00,\n",
       "        -3.31283170e-01,  3.86539145e-01, -8.51455657e-01,\n",
       "         1.00088142e+00, -3.84832249e-01,  1.45810824e+00],\n",
       "       [-5.32234021e-01,  1.11813340e+00,  6.74396105e-01,\n",
       "        -7.22391905e-01,  1.09899633e+00, -9.01634490e-01,\n",
       "        -8.22467189e-01,  7.21711292e-01, -6.25342001e-01,\n",
       "        -5.93843067e-01, -3.43900709e-01, -1.00016919e+00,\n",
       "         1.04499441e+00,  6.08514698e-01, -6.93286967e-02,\n",
       "        -1.08392067e-01,  4.50155513e-01,  1.76533510e+00,\n",
       "         8.70969803e-01, -5.08457134e-01,  7.77419205e-01,\n",
       "        -1.18771172e-01, -1.98998184e-01,  1.86647138e+00,\n",
       "        -4.18937898e-01, -4.79184915e-01, -1.95210529e+00,\n",
       "        -1.40232915e+00,  4.51122939e-01, -6.94920901e-01],\n",
       "       [ 5.15413802e-01, -1.11487105e+00, -7.67309826e-01,\n",
       "         6.74570707e-01,  1.46089238e+00,  5.92472801e-01,\n",
       "         1.19783084e+00,  1.70459417e+00,  1.04008915e+00,\n",
       "        -9.18440038e-01, -1.05344713e-01,  6.30195671e-01,\n",
       "        -4.14846901e-01,  4.51946037e-01, -1.57915629e+00,\n",
       "        -8.28627979e-01,  5.28879746e-01, -2.23708651e+00,\n",
       "        -1.10771250e+00, -1.77183179e-02, -1.71939447e+00,\n",
       "         5.71209961e-02, -7.99547491e-01, -2.91594596e-01,\n",
       "        -2.58982853e-01,  1.89293198e-01, -5.63788735e-01,\n",
       "         8.96864073e-02, -6.01156801e-01,  5.56073510e-01],\n",
       "       [ 1.69380911e+00,  1.96869779e-01,  1.69869255e-01,\n",
       "        -1.16400797e+00,  6.93366226e-01, -7.58067329e-01,\n",
       "        -8.08847196e-01,  5.57439453e-01,  1.81038744e-01,\n",
       "         1.10717545e+00,  1.44287693e+00, -5.39681562e-01,\n",
       "         1.28376990e-01,  1.76041518e+00,  9.66539250e-01,\n",
       "         7.13049050e-01,  1.30620607e+00, -6.04602969e-01,\n",
       "         6.36583409e-01,  1.40925339e+00,  1.62091229e+00,\n",
       "        -8.06184817e-01, -2.51674208e-01,  3.82715174e-01,\n",
       "        -2.88997343e-01, -3.91816240e-01,  6.84001328e-01,\n",
       "        -3.53409983e-01, -1.78791289e+00,  3.61847316e-01],\n",
       "       [-4.24492791e-01, -7.31530982e-01, -1.56573815e+00,\n",
       "         1.01382247e+00, -2.22711263e+00, -1.69933360e+00,\n",
       "        -2.75846063e-01,  1.22895559e+00,  1.30970591e+00,\n",
       "        -1.15498263e+00, -1.77632196e-01, -1.51045638e+00,\n",
       "         1.01120706e+00, -1.47656266e+00, -1.43195745e-01,\n",
       "         1.03298378e+00, -2.22414029e-01,  1.47016034e+00,\n",
       "        -8.70008223e-01,  3.69190470e-01,  8.53282186e-01,\n",
       "        -1.39711730e-01,  1.38631426e+00,  5.48129585e-01,\n",
       "        -1.63744959e+00,  3.95860270e+00,  6.48643644e-01,\n",
       "         1.07343294e-01, -1.39881282e+00,  8.17678188e-02],\n",
       "       [-4.59942831e-01,  6.44353666e-01,  3.71670291e-01,\n",
       "         1.85300949e+00,  1.42251373e-01,  5.13505480e-01,\n",
       "         3.72456852e-01, -1.48489803e-01, -1.83400197e-01,\n",
       "         1.10100020e+00,  7.80027135e-01, -6.29441604e-01,\n",
       "        -1.11343610e+00, -6.74100249e-02,  1.16143998e+00,\n",
       "        -2.75293863e-02,  1.74643509e+00, -7.75070287e-01,\n",
       "         1.41640538e-01, -2.51630386e+00, -5.95667881e-01,\n",
       "        -3.09121319e-01,  5.10937774e-01,  1.71066184e+00,\n",
       "         3.49435894e-02,  1.45391758e+00,  6.61681076e-01,\n",
       "         9.86352180e-01, -4.66154857e-01,  1.38499134e+00],\n",
       "       [-1.07296428e+00,  4.95158611e-01, -9.52062101e-01,\n",
       "        -5.18145552e-01, -1.46140360e+00, -5.16347909e-01,\n",
       "         3.51116897e-01, -6.87704631e-02, -1.34776494e+00,\n",
       "         1.47073986e+00,  3.37220938e-01,  1.00806543e+00,\n",
       "         7.85226920e-01, -6.64867767e-01, -1.94504696e+00,\n",
       "        -9.15424368e-01,  1.22515585e+00, -1.05354607e+00,\n",
       "         8.16043684e-01, -6.12406973e-01,  3.93109245e-01,\n",
       "        -1.82391985e+00,  1.16707517e+00, -3.96687001e-02,\n",
       "         8.85825799e-01,  1.89861649e-01,  7.98063795e-01,\n",
       "        -1.01932039e-01,  7.43356544e-01, -1.50957268e+00],\n",
       "       [-1.08071069e+00,  7.25474004e-01, -3.91782562e-02,\n",
       "        -2.28754171e-01, -1.79612295e-01,  5.01725109e-01,\n",
       "        -5.93343754e-01,  5.10307597e-01, -9.15791849e-01,\n",
       "        -4.07252043e-01,  9.84951672e-01,  1.07125243e+00,\n",
       "        -1.09715436e+00,  8.38634747e-01, -1.03918232e+00,\n",
       "         7.33023232e-01, -1.89881206e+00, -1.11711069e+00,\n",
       "        -5.08972278e-01, -1.66485955e-01,  1.42361443e+00,\n",
       "         9.03999174e-01,  1.57546791e+00,  1.20660790e+00,\n",
       "        -2.82863552e-01, -2.66326884e-01,  1.06897162e+00,\n",
       "         4.03714310e-02, -1.56993672e-01, -1.33520272e+00],\n",
       "       [-1.06460122e-01, -2.79099641e+00, -4.56117555e-01,\n",
       "        -9.79890252e-01,  6.92574348e-01, -4.78672356e-01,\n",
       "        -3.29051549e-01,  1.34710546e+00, -1.04906775e+00,\n",
       "         3.16658895e-01, -1.89526695e+00,  8.97291174e-02,\n",
       "         4.10265745e-01,  8.59870972e-01, -8.98683193e-01,\n",
       "         3.19656942e-01,  3.18154200e-01, -1.92316341e-02,\n",
       "         1.50016279e-01,  4.63534322e-01,  3.97880425e-01,\n",
       "        -9.96010889e-01, -1.19586151e+00,  2.50598029e+00,\n",
       "         1.91979229e+00, -1.39169388e+00,  4.50217742e-01,\n",
       "         6.27437083e-01,  7.51337235e-01,  1.40395436e-01],\n",
       "       [-9.26871939e-01, -1.82420406e-01, -4.91125138e-01,\n",
       "         1.34373116e-01, -2.68371304e-01, -1.31675626e-01,\n",
       "         1.01855247e+00,  1.23055820e+00, -1.18110317e+00,\n",
       "        -4.59930104e-01, -7.90799954e-01,  1.22372221e+00,\n",
       "        -5.93679025e-02,  1.44898940e+00, -4.77580855e-01,\n",
       "         2.59999942e-02, -1.34869645e+00,  1.30253554e+00,\n",
       "        -3.62612088e-01, -1.48515645e+00, -5.92461285e-01,\n",
       "        -2.30490794e+00, -3.18171727e-02,  1.12487742e-01,\n",
       "         2.88078167e-01,  1.49810818e+00, -3.00976154e-01,\n",
       "         8.07455917e-01,  3.12238689e-01, -1.93321640e-01],\n",
       "       [-2.07680202e+00,  9.47501167e-01, -5.03973949e-01,\n",
       "         1.79558917e-02, -1.27046078e+00,  2.82995534e-01,\n",
       "         1.08030817e-01,  2.94176190e-02, -1.34793129e-01,\n",
       "         1.04921829e+00,  9.66220863e-01,  7.25916853e-01,\n",
       "         3.32107876e+00, -6.00225330e-01, -3.79517516e-01,\n",
       "        -1.01480369e+00,  4.35986196e-01, -6.87487393e-01,\n",
       "        -2.69836174e+00, -1.21333813e+00,  7.22518992e-02,\n",
       "         1.00978733e+00, -1.55694156e+00, -6.12442128e-01,\n",
       "        -1.39351805e-01, -7.28537489e-01,  5.31163793e-01,\n",
       "         4.00084198e-03,  3.21265914e-01, -7.25214926e-01],\n",
       "       [ 1.53653633e+00, -3.75008758e-04,  1.29354962e+00,\n",
       "        -4.38997664e-01,  5.90039464e-01, -6.79383783e-01,\n",
       "        -9.50909251e-01, -7.04350332e-01, -4.58666861e-02,\n",
       "        -2.18733459e-01,  1.53920701e+00, -1.14870423e+00,\n",
       "        -1.09033833e+00,  1.70018815e+00,  6.08783659e-01,\n",
       "        -1.88141087e+00,  4.97269099e-01,  2.37332699e-01,\n",
       "        -2.14444405e+00, -3.69562425e-01, -1.74549518e-02,\n",
       "         7.31402517e-01,  9.54495667e-01,  9.57467711e-02,\n",
       "         1.03345080e+00, -1.46273275e-01, -8.57496825e-01,\n",
       "        -9.34181843e-01,  5.42645295e-01, -1.95816909e+00],\n",
       "       [ 6.77807571e-01, -1.10657307e+00, -3.59224096e-01,\n",
       "         5.05381903e-01,  1.21794090e+00, -1.94068096e+00,\n",
       "        -8.06178212e-01,  4.90616924e-02, -5.96086335e-01,\n",
       "         8.61623101e-01, -2.08639057e+00,  3.61801641e-01,\n",
       "         4.25920177e-01,  4.90803971e-02,  1.10223673e+00,\n",
       "        -1.22957425e+00,  1.10861676e+00, -7.02920403e-01,\n",
       "         7.25550518e-01, -3.24204219e-01,  8.14343129e-01,\n",
       "         7.80469930e-01, -1.46405357e+00, -1.54491194e-01,\n",
       "        -9.24323185e-02, -2.37875265e-01, -7.55662765e-01,\n",
       "         1.85143789e+00,  2.09096677e-01,  1.55501599e+00],\n",
       "       [-5.69148654e-01, -1.06179676e+00,  1.32247779e-01,\n",
       "        -5.63236604e-01,  2.39014596e+00,  2.45422849e-01,\n",
       "         1.15259914e+00, -2.24235772e-01, -3.26061306e-01,\n",
       "        -3.09114176e-02,  3.55717262e-01,  8.49586845e-01,\n",
       "        -1.22154015e-01, -6.80851574e-01, -1.06787658e+00,\n",
       "        -7.66793627e-02,  5.72962726e-01,  4.57947076e-01,\n",
       "        -1.78175491e-02, -6.00138799e-01,  1.46765263e-01,\n",
       "         5.71804879e-01, -3.68176565e-02,  1.12368489e-01,\n",
       "        -1.50504326e-01,  9.15499268e-01, -4.38200267e-01,\n",
       "         1.85535621e-01,  3.94428030e-01,  7.25522558e-01],\n",
       "       [ 1.49588477e+00,  6.75453809e-01,  5.99213235e-01,\n",
       "        -1.47023709e+00,  6.06403944e-01,  2.29371761e+00,\n",
       "        -8.30010986e-01, -1.01951985e+00, -2.14653842e-01,\n",
       "         1.02124813e+00,  5.24750492e-01, -4.77124206e-01,\n",
       "        -3.59901817e-02,  1.03703898e+00,  6.72619748e-01,\n",
       "         2.42887697e+00,  1.00568668e+00,  3.53567216e-01,\n",
       "         6.14726276e-01, -3.48984191e-01, -9.77773002e-01,\n",
       "         1.71957132e-01,  4.90561044e-01, -1.39528303e+00,\n",
       "        -5.22356465e-01, -3.69255902e-01,  2.65642403e-01,\n",
       "        -2.60466059e-01,  4.45096710e-01,  9.81122462e-02],\n",
       "       [ 1.06032751e+00, -1.71116766e+00,  1.65712464e+00,\n",
       "         1.41767401e+00,  5.03170861e-02,  6.50323214e-01,\n",
       "         6.06548400e-01, -7.37289628e-01,  1.64665066e-01,\n",
       "         7.78174179e-01,  3.09816759e-01,  1.05132077e+00,\n",
       "         9.49961101e-02,  8.07509886e-02, -7.67803746e-01,\n",
       "        -3.64538050e-01, -4.59717681e-01,  1.70548352e+00,\n",
       "         2.40505552e-01, -9.99426501e-01,  3.98598388e-01,\n",
       "        -1.92003697e-01, -3.05376438e+00,  4.79852371e-01,\n",
       "        -1.55269878e+00,  5.78464420e-01, -9.61263599e-01,\n",
       "        -1.45832446e+00,  4.94341651e-01, -1.49419377e+00]])"
      ]
     },
     "execution_count": 72,
     "metadata": {},
     "output_type": "execute_result"
    }
   ],
   "source": [
    "image = np.random.randn(30,30)\n",
    "image"
   ]
  },
  {
   "cell_type": "code",
   "execution_count": 73,
   "metadata": {},
   "outputs": [
    {
     "data": {
      "text/plain": [
       "<matplotlib.colorbar.Colorbar at 0x18afb74cb70>"
      ]
     },
     "execution_count": 73,
     "metadata": {},
     "output_type": "execute_result"
    },
    {
     "data": {
      "image/png": "[encoded data removed]",
      "text/plain": [
       "<Figure size 432x288 with 2 Axes>"
      ]
     },
     "metadata": {
      "needs_background": "light"
     },
     "output_type": "display_data"
    }
   ],
   "source": [
    "plt.imshow(image, cmap=plt.cm.hot)\n",
    "plt.colorbar()"
   ]
  },
  {
   "cell_type": "code",
   "execution_count": 74,
   "metadata": {},
   "outputs": [
    {
     "data": {
      "text/plain": [
       "array([0, 1, 2, 3, 4, 5, 6, 7, 8, 9])"
      ]
     },
     "execution_count": 74,
     "metadata": {},
     "output_type": "execute_result"
    }
   ],
   "source": [
    "a = np.arange(10)\n",
    "a"
   ]
  },
  {
   "cell_type": "code",
   "execution_count": 75,
   "metadata": {},
   "outputs": [
    {
     "data": {
      "text/plain": [
       "(0, 2, 9, array([1, 2, 3, 4]))"
      ]
     },
     "execution_count": 75,
     "metadata": {},
     "output_type": "execute_result"
    }
   ],
   "source": [
    "a[0], a[2], a[-1],a[1:5]"
   ]
  },
  {
   "cell_type": "code",
   "execution_count": 76,
   "metadata": {},
   "outputs": [
    {
     "data": {
      "text/plain": [
       "array([9, 8, 7, 6, 5, 4, 3, 2, 1, 0])"
      ]
     },
     "execution_count": 76,
     "metadata": {},
     "output_type": "execute_result"
    }
   ],
   "source": [
    " a[::-1]"
   ]
  },
  {
   "cell_type": "code",
   "execution_count": 77,
   "metadata": {},
   "outputs": [
    {
     "data": {
      "text/plain": [
       "array([[1, 0, 0],\n",
       "       [0, 2, 0],\n",
       "       [0, 0, 3]])"
      ]
     },
     "execution_count": 77,
     "metadata": {},
     "output_type": "execute_result"
    }
   ],
   "source": [
    "a = np.diag(np.arange(1,4))\n",
    "a"
   ]
  },
  {
   "cell_type": "code",
   "execution_count": 78,
   "metadata": {},
   "outputs": [
    {
     "data": {
      "text/plain": [
       "2"
      ]
     },
     "execution_count": 78,
     "metadata": {},
     "output_type": "execute_result"
    }
   ],
   "source": [
    "a[1, 1]"
   ]
  },
  {
   "cell_type": "code",
   "execution_count": 79,
   "metadata": {},
   "outputs": [
    {
     "data": {
      "text/plain": [
       "array([[1, 0, 0],\n",
       "       [0, 2, 0],\n",
       "       [0, 0, 3]])"
      ]
     },
     "execution_count": 79,
     "metadata": {},
     "output_type": "execute_result"
    }
   ],
   "source": [
    "a"
   ]
  },
  {
   "cell_type": "code",
   "execution_count": 80,
   "metadata": {},
   "outputs": [
    {
     "data": {
      "text/plain": [
       "array([[ 1,  0,  0],\n",
       "       [ 0,  2,  0],\n",
       "       [ 0, 10,  3]])"
      ]
     },
     "execution_count": 80,
     "metadata": {},
     "output_type": "execute_result"
    }
   ],
   "source": [
    "a[2, 1] = 10 # third line, second column\n",
    "a"
   ]
  },
  {
   "cell_type": "code",
   "execution_count": 81,
   "metadata": {},
   "outputs": [
    {
     "data": {
      "text/plain": [
       "array([[1, 1],\n",
       "       [3, 2]])"
      ]
     },
     "execution_count": 81,
     "metadata": {},
     "output_type": "execute_result"
    }
   ],
   "source": [
    "x = np.array([[1, 1], [3, 2]])\n",
    "x"
   ]
  },
  {
   "cell_type": "code",
   "execution_count": 82,
   "metadata": {},
   "outputs": [
    {
     "data": {
      "text/plain": [
       "array([2, 5])"
      ]
     },
     "execution_count": 82,
     "metadata": {},
     "output_type": "execute_result"
    }
   ],
   "source": [
    "x.sum(axis=1)"
   ]
  },
  {
   "cell_type": "code",
   "execution_count": 83,
   "metadata": {},
   "outputs": [
    {
     "data": {
      "text/plain": [
       "array([4, 3])"
      ]
     },
     "execution_count": 83,
     "metadata": {},
     "output_type": "execute_result"
    }
   ],
   "source": [
    "x.sum(axis=0)"
   ]
  },
  {
   "cell_type": "code",
   "execution_count": 84,
   "metadata": {},
   "outputs": [
    {
     "data": {
      "text/plain": [
       "array([[1, 1],\n",
       "       [3, 2]])"
      ]
     },
     "execution_count": 84,
     "metadata": {},
     "output_type": "execute_result"
    }
   ],
   "source": [
    "x"
   ]
  },
  {
   "cell_type": "code",
   "execution_count": 85,
   "metadata": {},
   "outputs": [
    {
     "data": {
      "text/plain": [
       "array([[2, 2],\n",
       "       [6, 4]])"
      ]
     },
     "execution_count": 85,
     "metadata": {},
     "output_type": "execute_result"
    }
   ],
   "source": [
    "np.add(x,x)"
   ]
  },
  {
   "cell_type": "markdown",
   "metadata": {},
   "source": [
    "### Basic Operations\n",
    "Arithmetic operators on arrays apply elementwise. A new array is created and filled with the result."
   ]
  },
  {
   "cell_type": "code",
   "execution_count": 86,
   "metadata": {},
   "outputs": [
    {
     "name": "stdout",
     "output_type": "stream",
     "text": [
      "[20 29 38 47] Sub of Two arrays\n",
      "\n",
      "[20 29 38 47] Sub of Two arrays\n",
      "\n",
      "[20 31 42 53] Addation of two arrays\n",
      "\n",
      "[20 31 42 53] \n",
      "\n",
      "[  0  30  80 150] Mul of two arrays\n",
      "\n",
      "[  0  30  80 150] \n",
      "\n"
     ]
    }
   ],
   "source": [
    "aa = np.array( [20,30,40,50] )\n",
    "bc = np.arange( 4 )\n",
    "#print(aa,bc)\n",
    "print(aa-bc,\"Sub of Two arrays\\n\")\n",
    "print(np.subtract(aa,bc),\"Sub of Two arrays\\n\")\n",
    "print(np.add(aa,bc),\"Addation of two arrays\\n\")\n",
    "print(aa+bc,\"\\n\")\n",
    "print(np.multiply(aa,bc),\"Mul of two arrays\\n\")\n",
    "print(aa*bc,\"\\n\")"
   ]
  },
  {
   "cell_type": "code",
   "execution_count": 87,
   "metadata": {
    "scrolled": true
   },
   "outputs": [
    {
     "name": "stdout",
     "output_type": "stream",
     "text": [
      "[        inf 30.         20.         16.66666667] aa number divide with bc numbers\n",
      "[        inf 30.         20.         16.66666667] div\n",
      "\n"
     ]
    },
    {
     "name": "stderr",
     "output_type": "stream",
     "text": [
      "c:\\users\\kumar\\appdata\\local\\programs\\python\\python36\\lib\\site-packages\\ipykernel_launcher.py:1: RuntimeWarning: divide by zero encountered in true_divide\n",
      "  \"\"\"Entry point for launching an IPython kernel.\n",
      "c:\\users\\kumar\\appdata\\local\\programs\\python\\python36\\lib\\site-packages\\ipykernel_launcher.py:2: RuntimeWarning: divide by zero encountered in true_divide\n",
      "  \n"
     ]
    }
   ],
   "source": [
    "print(np.divide(aa,bc),\"aa number divide with bc numbers\")\n",
    "print(aa/bc,\"div\\n\")"
   ]
  },
  {
   "cell_type": "code",
   "execution_count": 88,
   "metadata": {},
   "outputs": [
    {
     "name": "stdout",
     "output_type": "stream",
     "text": [
      "(array([ 0, 30, 20, 16], dtype=int32), array([0, 0, 0, 2], dtype=int32)) Divmode\n"
     ]
    },
    {
     "name": "stderr",
     "output_type": "stream",
     "text": [
      "c:\\users\\kumar\\appdata\\local\\programs\\python\\python36\\lib\\site-packages\\ipykernel_launcher.py:1: RuntimeWarning: divide by zero encountered in divmod\n",
      "  \"\"\"Entry point for launching an IPython kernel.\n"
     ]
    }
   ],
   "source": [
    "print(np.divmod(aa,bc),\"Divmode\")"
   ]
  },
  {
   "cell_type": "code",
   "execution_count": 89,
   "metadata": {},
   "outputs": [
    {
     "data": {
      "text/plain": [
       "array([0, 1, 4, 9], dtype=int32)"
      ]
     },
     "execution_count": 89,
     "metadata": {},
     "output_type": "execute_result"
    }
   ],
   "source": [
    "bc**2"
   ]
  },
  {
   "cell_type": "code",
   "execution_count": 90,
   "metadata": {},
   "outputs": [
    {
     "data": {
      "text/plain": [
       "array([ 9.12945251, -9.88031624,  7.4511316 , -2.62374854])"
      ]
     },
     "execution_count": 90,
     "metadata": {},
     "output_type": "execute_result"
    }
   ],
   "source": [
    "10*np.sin(aa)"
   ]
  },
  {
   "cell_type": "code",
   "execution_count": 92,
   "metadata": {},
   "outputs": [
    {
     "name": "stdout",
     "output_type": "stream",
     "text": [
      "[ True  True False False] Lessthen Comp\n",
      "[False False  True  True] Greater Comp\n",
      "[False False False False] Equal comp\n",
      "\n"
     ]
    }
   ],
   "source": [
    "print(aa<35,\"Lessthen Comp\")\n",
    "print(aa>35,\"Greater Comp\")\n",
    "print(aa==bc,\"Equal comp\\n\")"
   ]
  },
  {
   "cell_type": "markdown",
   "metadata": {},
   "source": [
    "Unlike in many matrix languages, the product operator * operates elementwise in NumPy arrays. The matrix product can be performed using the @ operator (in python >=3.5) or the dot function or method:"
   ]
  },
  {
   "cell_type": "code",
   "execution_count": 40,
   "metadata": {},
   "outputs": [
    {
     "name": "stdout",
     "output_type": "stream",
     "text": [
      "[[2 0]\n",
      " [0 4]] # elementwise product\n",
      "\n",
      "[[5 4]\n",
      " [3 4]] # matrix product\n",
      "\n",
      "[[5 4]\n",
      " [3 4]] # dot matrix product\n"
     ]
    }
   ],
   "source": [
    "A = np.array( [[1,1],[0,1]] )\n",
    "B = np.array( [[2,0],[3,4]] )\n",
    "print(A * B ,\"# elementwise product\\n\")\n",
    "print(A @ B ,\"# matrix product\\n\")\n",
    "print(A.dot(B),\"# dot matrix product\")"
   ]
  },
  {
   "cell_type": "markdown",
   "metadata": {},
   "source": [
    "Some operations, such as += and *=, act in place to modify an existing array rather than create a new one."
   ]
  },
  {
   "cell_type": "code",
   "execution_count": 41,
   "metadata": {},
   "outputs": [
    {
     "name": "stdout",
     "output_type": "stream",
     "text": [
      "Assignement operaters Mul\n",
      " [[3 3 3]\n",
      " [3 3 3]]\n",
      "Assignement operaters ADD\n",
      " [[3.80930517 3.28296286 3.27338179]\n",
      " [3.38573719 3.42160812 3.93216543]]\n"
     ]
    }
   ],
   "source": [
    "a = np.ones((2,3), dtype=int)\n",
    "b = np.random.random((2,3))\n",
    "a *= 3\n",
    "b += a\n",
    "print(\"Assignement operaters Mul\\n\",a)\n",
    "print(\"Assignement operaters ADD\\n\",b)"
   ]
  },
  {
   "cell_type": "markdown",
   "metadata": {},
   "source": [
    "When operating with arrays of different types, the type of the resulting array corresponds to the more general or precise one (a behavior known as upcasting)."
   ]
  },
  {
   "cell_type": "code",
   "execution_count": 42,
   "metadata": {},
   "outputs": [
    {
     "name": "stdout",
     "output_type": "stream",
     "text": [
      "float64 Data type\n",
      "\n",
      "Add of two arrays\n",
      " [1.         2.57079633 4.14159265]\n"
     ]
    },
    {
     "data": {
      "text/plain": [
       "array([1.        , 2.57079633, 4.14159265])"
      ]
     },
     "execution_count": 42,
     "metadata": {},
     "output_type": "execute_result"
    }
   ],
   "source": [
    "a = np.ones(3, dtype=np.int32)\n",
    "b = np.linspace(0,pi,3)\n",
    "c =a+b\n",
    "print(b.dtype.name,\"Data type\\n\")\n",
    "print(\"Add of two arrays\\n\",c)\n",
    "c"
   ]
  },
  {
   "cell_type": "markdown",
   "metadata": {},
   "source": [
    "Many unary operations, such as computing the sum of all the elements in the array, are implemented as methods of the ndarray class."
   ]
  },
  {
   "cell_type": "code",
   "execution_count": 93,
   "metadata": {},
   "outputs": [
    {
     "name": "stdout",
     "output_type": "stream",
     "text": [
      "4.0497508966259455 Sum of number\n",
      "0.07194722016400112 Find the min\n",
      "0.9710833196254638 Max of from array\n"
     ]
    }
   ],
   "source": [
    "a = np.random.random((2,3))\n",
    "print(a.sum(),\"Sum of number\")\n",
    "print(a.min(),\"Find the min\")\n",
    "print(a.max(),\"Max of from array\")"
   ]
  },
  {
   "cell_type": "markdown",
   "metadata": {},
   "source": [
    "By default, these operations apply to the array as though it were a list of numbers, regardless of its shape. However, by specifying the axis parameter you can apply an operation along the specified axis of an array:"
   ]
  },
  {
   "cell_type": "code",
   "execution_count": 94,
   "metadata": {},
   "outputs": [
    {
     "name": "stdout",
     "output_type": "stream",
     "text": [
      "[[ 0  1  2  3]\n",
      " [ 4  5  6  7]\n",
      " [ 8  9 10 11]]\n",
      "[12 15 18 21] # sum of each column\n"
     ]
    }
   ],
   "source": [
    "b = np.arange(12).reshape(3,4)\n",
    "print(b)\n",
    "print(b.sum(axis=0) ,\"# sum of each column\")"
   ]
  },
  {
   "cell_type": "code",
   "execution_count": 45,
   "metadata": {},
   "outputs": [
    {
     "name": "stdout",
     "output_type": "stream",
     "text": [
      "[0 1 2 3] # min of each row\n"
     ]
    }
   ],
   "source": [
    "print(b.min(axis=0) ,\"# min of each row\")"
   ]
  },
  {
   "cell_type": "code",
   "execution_count": 46,
   "metadata": {},
   "outputs": [
    {
     "name": "stdout",
     "output_type": "stream",
     "text": [
      "[[ 0  1  2  3]\n",
      " [ 4  5  6  7]\n",
      " [ 8  9 10 11]]\n",
      "[[ 0  1  3  6]\n",
      " [ 4  9 15 22]\n",
      " [ 8 17 27 38]] # cumulative sum along each row\n"
     ]
    }
   ],
   "source": [
    "print(b)\n",
    "print(b.cumsum(axis=1),\"# cumulative sum along each row\")"
   ]
  },
  {
   "cell_type": "code",
   "execution_count": 95,
   "metadata": {},
   "outputs": [
    {
     "data": {
      "text/plain": [
       "array([[ 0,  1,  2,  3],\n",
       "       [ 4,  5,  6,  7],\n",
       "       [ 8,  9, 10, 11]])"
      ]
     },
     "execution_count": 95,
     "metadata": {},
     "output_type": "execute_result"
    }
   ],
   "source": [
    "b"
   ]
  },
  {
   "cell_type": "code",
   "execution_count": 97,
   "metadata": {},
   "outputs": [
    {
     "data": {
      "text/plain": [
       "array([[ 0,  1,  2,  3],\n",
       "       [ 4,  6,  8, 10],\n",
       "       [12, 15, 18, 21]], dtype=int32)"
      ]
     },
     "execution_count": 97,
     "metadata": {},
     "output_type": "execute_result"
    }
   ],
   "source": [
    "b.cumsum(axis=0)"
   ]
  },
  {
   "cell_type": "code",
   "execution_count": 48,
   "metadata": {},
   "outputs": [
    {
     "data": {
      "text/plain": [
       "array([[   0,    0,    0,    0],\n",
       "       [   4,   20,  120,  840],\n",
       "       [   8,   72,  720, 7920]], dtype=int32)"
      ]
     },
     "execution_count": 48,
     "metadata": {},
     "output_type": "execute_result"
    }
   ],
   "source": [
    "b.cumprod(axis =1)"
   ]
  },
  {
   "cell_type": "markdown",
   "metadata": {},
   "source": [
    "###  Universal Functions\n",
    "NumPy provides familiar mathematical functions such as sin, cos, and exp. In NumPy, these are called “universal functions”(ufunc). Within NumPy, these functions operate elementwise on an array, producing an array as output.\n",
    "* all, \n",
    "* any, \n",
    "* apply_along_axis, \n",
    "* argmax, \n",
    "* argmin, \n",
    "* argsort, \n",
    "* average, \n",
    "* bincount, \n",
    "* ceil, \n",
    "* clip, \n",
    "* conj, \n",
    "* corrcoef, \n",
    "* cov, \n",
    "* cross, \n",
    "* cumprod, \n",
    "* cumsum, \n",
    "* diff, \n",
    "* dot, \n",
    "* floor, \n",
    "* inner, \n",
    "* inv, \n",
    "* lexsort, \n",
    "* max, \n",
    "* maximum, \n",
    "* mean, \n",
    "* median, \n",
    "* min, \n",
    "* minimum, \n",
    "* nonzero, \n",
    "* outer, \n",
    "* prod, \n",
    "* re, \n",
    "* round, \n",
    "* sort, \n",
    "* std, \n",
    "* sum, \n",
    "* trace, \n",
    "* transpose, \n",
    "* var, \n",
    "* vdot, \n",
    "* vectorize, \n",
    "* where"
   ]
  },
  {
   "cell_type": "code",
   "execution_count": 49,
   "metadata": {},
   "outputs": [
    {
     "name": "stdout",
     "output_type": "stream",
     "text": [
      "[1.         2.71828183 7.3890561 ] Exp of Array\n",
      "[0.         1.         1.41421356] Square root of a array\n",
      "[0 2 4] Addition of Two Arrays\n"
     ]
    }
   ],
   "source": [
    "B = np.arange(3)\n",
    "C = np.arange(3)\n",
    "print(np.exp(B),\"Exp of Array\")\n",
    "print(np.sqrt(B),\"Square root of a array\")\n",
    "print(np.add(B, C),\"Addition of Two Arrays\")\n"
   ]
  },
  {
   "cell_type": "markdown",
   "metadata": {},
   "source": [
    "#### Numpy all and any \n",
    "Test whether all array elements along a given axis evaluate to True.\n",
    "\n",
    "Test whether any array element along a given axis evaluates to True.\n",
    "\n",
    "Returns single boolean unless axis is not None"
   ]
  },
  {
   "cell_type": "code",
   "execution_count": 50,
   "metadata": {},
   "outputs": [
    {
     "name": "stdout",
     "output_type": "stream",
     "text": [
      "False\n",
      "True\n"
     ]
    },
    {
     "data": {
      "text/plain": [
       "True"
      ]
     },
     "execution_count": 50,
     "metadata": {},
     "output_type": "execute_result"
    }
   ],
   "source": [
    "# Test whether all array elements along a given axis evaluate to True.\n",
    "print(np.all([[True,False],[True,True]]))\n",
    "print(np.any([[True, False], [True, True]]))\n",
    "np.any(np.nan)"
   ]
  },
  {
   "cell_type": "markdown",
   "metadata": {},
   "source": [
    "#### numpy.apply_along_axis\n",
    "\n",
    "Apply a function to 1-D slices along the given axis.\n",
    "\n",
    "Execute func1d(a, *args) where func1d operates on 1-D arrays and a is a 1-D slice of arr along axis."
   ]
  },
  {
   "cell_type": "code",
   "execution_count": 51,
   "metadata": {},
   "outputs": [
    {
     "data": {
      "text/plain": [
       "array([[1, 2, 3],\n",
       "       [7, 8, 9],\n",
       "       [4, 5, 6]])"
      ]
     },
     "execution_count": 51,
     "metadata": {},
     "output_type": "execute_result"
    }
   ],
   "source": [
    "b = np.array([[1,2,3],[7,8,9], [4,5,6]])\n",
    "b"
   ]
  },
  {
   "cell_type": "code",
   "execution_count": 52,
   "metadata": {},
   "outputs": [
    {
     "data": {
      "text/plain": [
       "array([[[1, 0, 0],\n",
       "        [0, 2, 0],\n",
       "        [0, 0, 3]],\n",
       "\n",
       "       [[7, 0, 0],\n",
       "        [0, 8, 0],\n",
       "        [0, 0, 9]],\n",
       "\n",
       "       [[4, 0, 0],\n",
       "        [0, 5, 0],\n",
       "        [0, 0, 6]]])"
      ]
     },
     "execution_count": 52,
     "metadata": {},
     "output_type": "execute_result"
    }
   ],
   "source": [
    "np.apply_along_axis(np.diag,  1, b)"
   ]
  },
  {
   "cell_type": "markdown",
   "metadata": {},
   "source": [
    "####  argmax, argmin, argsort,\n",
    "Returns the indices of the maximum values along an axis.\n",
    "\n",
    "Returns the indices of the minimum values along an axis.\n",
    "\n",
    "Returns the indices that would sort an array.\n",
    "\n",
    "Perform an indirect sort along the given axis using the algorithm specified by the kind keyword. It returns an array of indices of the same shape as a that index data along the given axis in sorted order."
   ]
  },
  {
   "cell_type": "code",
   "execution_count": 53,
   "metadata": {},
   "outputs": [
    {
     "name": "stdout",
     "output_type": "stream",
     "text": [
      "[[10 11 12]\n",
      " [13 14 15]] Print all a array  values\n",
      "\n",
      "Index of 'max of a' values:   5\n",
      "Index of 'max of a' values with axis zero:   [1 1 1]\n",
      "Index of 'max of a' values with axis one:   [2 2]\n"
     ]
    }
   ],
   "source": [
    "a = np.arange(6).reshape(2,3) + 10\n",
    "print(a, \"Print all a array  values\\n\")\n",
    "print(\"Index of 'max of a' values:  \",np.argmax(a) )\n",
    "print(\"Index of 'max of a' values with axis zero:  \",np.argmax(a, axis=0))\n",
    "print(\"Index of 'max of a' values with axis one:  \",np.argmax(a, axis=1))\n",
    "# axis 2 is out of bounds for array of dimension 2\n",
    "#print(\"Index of 'max of a' values with axis zero:  \",np.argmax(a, axis=2))"
   ]
  },
  {
   "cell_type": "code",
   "execution_count": 54,
   "metadata": {},
   "outputs": [
    {
     "name": "stdout",
     "output_type": "stream",
     "text": [
      "Index of 'min of a' values:   0\n",
      "Index of 'min of a' values with axis zero:   [0 0 0]\n",
      "Index of 'min of a' values with axis one:   [0 0]\n"
     ]
    }
   ],
   "source": [
    "a = np.arange(6).reshape(2,3) + 10\n",
    "print(\"Index of 'min of a' values:  \",np.argmin(a) )\n",
    "print(\"Index of 'min of a' values with axis zero:  \",np.argmin(a, axis=0))\n",
    "print(\"Index of 'min of a' values with axis one:  \",np.argmin(a, axis=1))"
   ]
  },
  {
   "cell_type": "code",
   "execution_count": 55,
   "metadata": {},
   "outputs": [
    {
     "name": "stdout",
     "output_type": "stream",
     "text": [
      "[1 2 0] Arg Sorting of a number\n",
      "\n",
      "[1 2 0] # sorts along first axis (down)\n",
      "\n",
      "[[0 1]\n",
      " [0 1]] # sorts along last axis (across)\n",
      "\n"
     ]
    }
   ],
   "source": [
    "x = np.array([3, 1, 2])\n",
    "print(np.argsort(x),\"Arg Sorting of a number\\n\")\n",
    "print(np.argsort(x, axis=0) ,\"# sorts along first axis (down)\\n\")\n",
    "x = np.array([[0, 3], [2, 2]])\n",
    "print(np.argsort(x, axis=1) ,\"# sorts along last axis (across)\\n\")"
   ]
  },
  {
   "cell_type": "markdown",
   "metadata": {},
   "source": [
    "### Average\n",
    "\n",
    "Compute the weighted average along the specified axis."
   ]
  },
  {
   "cell_type": "code",
   "execution_count": 56,
   "metadata": {},
   "outputs": [
    {
     "name": "stdout",
     "output_type": "stream",
     "text": [
      "2.5\n",
      "4.0\n"
     ]
    }
   ],
   "source": [
    "data = range(1,5)\n",
    "print(np.average(data))\n",
    "\n",
    "c =np.average(range(1,11), weights=range(10,0,-1))\n",
    "print(c)"
   ]
  },
  {
   "cell_type": "markdown",
   "metadata": {},
   "source": [
    "### bincount\n",
    "\n",
    "Count number of occurrences of each value in array of non-negative ints.\n",
    "\n",
    "The number of bins (of size 1) is one larger than the largest value in x. If minlength is specified, there will be at least this number of bins in the output array (though it will be longer if necessary, depending on the contents of x). Each bin gives the number of occurrences of its index value in x. If weights is specified the input array is weighted by it, i.e. if a value n is found at position i, out[n] += weight[i] instead of out[n] += 1."
   ]
  },
  {
   "cell_type": "code",
   "execution_count": 57,
   "metadata": {},
   "outputs": [
    {
     "name": "stdout",
     "output_type": "stream",
     "text": [
      "[0 1 1 1 1 1 1 1 1 1] \n",
      " \n",
      " [1 3 1 1 0 0 0 1]\n"
     ]
    }
   ],
   "source": [
    "a = np.bincount(np.arange(1,10))\n",
    "b = np.bincount(np.array([0, 1, 1, 3, 2, 1, 7]))\n",
    "print(a,\"\\n\",\"\\n\",b)"
   ]
  },
  {
   "cell_type": "markdown",
   "metadata": {},
   "source": [
    "#### Ceil\n",
    "Return the ceiling of the input, element-wise.\n",
    "\n",
    "The ceil of the scalar x is the smallest integer i, such that i >= x. It is often denoted as \\lceil x \\rceil."
   ]
  },
  {
   "cell_type": "code",
   "execution_count": 58,
   "metadata": {},
   "outputs": [
    {
     "name": "stdout",
     "output_type": "stream",
     "text": [
      "[-1. -1. -0.  1.  2.  2.  2.]\n"
     ]
    }
   ],
   "source": [
    "a = np.array([-1.7, -1.5, -0.2, 0.2, 1.5, 1.7, 2.0])\n",
    "print(np.ceil(a))"
   ]
  },
  {
   "cell_type": "markdown",
   "metadata": {},
   "source": [
    "#### Clip\n",
    "Clip (limit) the values in an array.\n",
    "\n",
    "Given an interval, values outside the interval are clipped to the interval edges. For example, if an interval of [0, 1] is specified, values smaller than 0 become 0, and values larger than 1 become 1."
   ]
  },
  {
   "cell_type": "code",
   "execution_count": 59,
   "metadata": {},
   "outputs": [
    {
     "data": {
      "text/plain": [
       "array([2, 2, 2, 3, 4, 5, 6, 7, 8, 8])"
      ]
     },
     "execution_count": 59,
     "metadata": {},
     "output_type": "execute_result"
    }
   ],
   "source": [
    "a = np.arange(10)\n",
    "np.clip(a, 2, 8)"
   ]
  },
  {
   "cell_type": "code",
   "execution_count": 60,
   "metadata": {},
   "outputs": [
    {
     "data": {
      "text/plain": [
       "array([3, 3, 3, 3, 4, 5, 6, 6, 6, 6])"
      ]
     },
     "execution_count": 60,
     "metadata": {},
     "output_type": "execute_result"
    }
   ],
   "source": [
    "np.clip(a,3,6)"
   ]
  },
  {
   "cell_type": "markdown",
   "metadata": {},
   "source": [
    "#### numpy.conj\n",
    "Return the complex conjugate, element-wise.\n",
    "\n",
    "The complex conjugate of a complex number is obtained by changing the sign of its imaginary part."
   ]
  },
  {
   "cell_type": "code",
   "execution_count": 61,
   "metadata": {},
   "outputs": [
    {
     "data": {
      "text/plain": [
       "(1-2j)"
      ]
     },
     "execution_count": 61,
     "metadata": {},
     "output_type": "execute_result"
    }
   ],
   "source": [
    "np.conjugate(1+2j)"
   ]
  },
  {
   "cell_type": "code",
   "execution_count": 62,
   "metadata": {},
   "outputs": [
    {
     "data": {
      "text/plain": [
       "array([[1.+1.j, 0.-0.j],\n",
       "       [0.-0.j, 1.+1.j]])"
      ]
     },
     "execution_count": 62,
     "metadata": {},
     "output_type": "execute_result"
    }
   ],
   "source": [
    "x = np.eye(2) - 1j * np.eye(2)\n",
    "np.conjugate(x)"
   ]
  },
  {
   "cell_type": "markdown",
   "metadata": {},
   "source": [
    "#### correlation coefficients\n",
    "Return Pearson product-moment correlation coefficients.\n",
    "\n",
    "Please refer to the documentation for cov for more detail. The relationship between the correlation coefficient matrix, R, and the covariance matrix, C, is"
   ]
  },
  {
   "cell_type": "raw",
   "metadata": {},
   "source": [
    "The covariance matrix is the matrix\n",
    "\n",
    "Cov( X, X )    Cov( X, Y )\n",
    "\n",
    "Cov( Y, X )    Cov( Y, Y )\n",
    "\n",
    "Normalised, this will yield the matrix:\n",
    "\n",
    "Corr( X, X )    Corr( X, Y )\n",
    "\n",
    "Corr( Y, X )    Corr( Y, Y )"
   ]
  },
  {
   "cell_type": "code",
   "execution_count": 63,
   "metadata": {},
   "outputs": [
    {
     "data": {
      "text/plain": [
       "array([[1.       , 0.0552433],\n",
       "       [0.0552433, 1.       ]])"
      ]
     },
     "execution_count": 63,
     "metadata": {},
     "output_type": "execute_result"
    }
   ],
   "source": [
    "x = np.random.randn(20)\n",
    "y = np.random.randn(20)\n",
    "np.corrcoef(x,y)"
   ]
  },
  {
   "cell_type": "markdown",
   "metadata": {},
   "source": [
    "#### Cross Product\n",
    "Return the cross product of two (arrays of) vectors.\n",
    "\n",
    "The cross product of a and b in R^3 is a vector perpendicular to both a and b. If a and b are arrays of vectors, the vectors are defined by the last axis of a and b by default, and these axes can have dimensions 2 or 3. Where the dimension of either a or b is 2, the third component of the input vector is assumed to be zero and the cross product calculated accordingly. In cases where both input vectors have dimension 2, the z-component of the cross product is returned.\n",
    "\n",
    "\n",
    "\n",
    "![](https://lh3.googleusercontent.com/-Yq_ECfwczFU/XTfHHRAIYwI/AAAAAAAAgF4/jJ4qyYM_MpUbEwSmJOJhApQLEZyyDmBmwCK8BGAs/s0/Cross%2BProduct.PNG)"
   ]
  },
  {
   "cell_type": "code",
   "execution_count": 64,
   "metadata": {},
   "outputs": [
    {
     "data": {
      "text/plain": [
       "array([-3,  6, -3])"
      ]
     },
     "execution_count": 64,
     "metadata": {},
     "output_type": "execute_result"
    }
   ],
   "source": [
    "import numpy as np\n",
    "x = [2, 3, 4]\n",
    "y = [5, 6, 7]\n",
    "np.cross(x, y)"
   ]
  },
  {
   "cell_type": "code",
   "execution_count": 65,
   "metadata": {},
   "outputs": [
    {
     "data": {
      "text/plain": [
       "array([[-3,  6, -3],\n",
       "       [ 3, -6,  3]])"
      ]
     },
     "execution_count": 65,
     "metadata": {},
     "output_type": "execute_result"
    }
   ],
   "source": [
    "x = np.array([[1,2,3], [4,5,6]])\n",
    "y = np.array([[4,5,6], [1,2,3]])\n",
    "np.cross(x, y)"
   ]
  },
  {
   "cell_type": "code",
   "execution_count": 66,
   "metadata": {},
   "outputs": [
    {
     "data": {
      "text/plain": [
       "array(6)"
      ]
     },
     "execution_count": 66,
     "metadata": {},
     "output_type": "execute_result"
    }
   ],
   "source": [
    "x = [2,1]\n",
    "y = [2,4]\n",
    "np.cross(x, y)\n",
    "# a*(b+c)=a*b+a*c"
   ]
  },
  {
   "cell_type": "markdown",
   "metadata": {},
   "source": [
    "#### cumulative product \n",
    "Return the cumulative product of elements along a given axis."
   ]
  },
  {
   "cell_type": "code",
   "execution_count": 67,
   "metadata": {},
   "outputs": [
    {
     "data": {
      "text/plain": [
       "array([1, 2, 6], dtype=int32)"
      ]
     },
     "execution_count": 67,
     "metadata": {},
     "output_type": "execute_result"
    }
   ],
   "source": [
    "a = np.array([1,2,3])\n",
    "np.cumprod(a)"
   ]
  },
  {
   "cell_type": "code",
   "execution_count": 68,
   "metadata": {},
   "outputs": [
    {
     "data": {
      "text/plain": [
       "array([  1.,   2.,   6.,  24., 120., 720.])"
      ]
     },
     "execution_count": 68,
     "metadata": {},
     "output_type": "execute_result"
    }
   ],
   "source": [
    "a = np.array([[1, 2, 3], [4, 5, 6]])\n",
    "np.cumprod(a, dtype=float)"
   ]
  },
  {
   "cell_type": "markdown",
   "metadata": {},
   "source": [
    "#### numpy.cumsum\n",
    "Return the cumulative sum of the elements along a given axis."
   ]
  },
  {
   "cell_type": "code",
   "execution_count": 69,
   "metadata": {},
   "outputs": [
    {
     "data": {
      "text/plain": [
       "array([ 1,  3,  6, 10, 15, 21], dtype=int32)"
      ]
     },
     "execution_count": 69,
     "metadata": {},
     "output_type": "execute_result"
    }
   ],
   "source": [
    "a = np.array([[1,2,3], [4,5,6]])\n",
    "np.cumsum(a)"
   ]
  },
  {
   "cell_type": "code",
   "execution_count": 70,
   "metadata": {},
   "outputs": [
    {
     "data": {
      "text/plain": [
       "array([ 1,  3,  6, 10, 15, 21], dtype=int32)"
      ]
     },
     "execution_count": 70,
     "metadata": {},
     "output_type": "execute_result"
    }
   ],
   "source": [
    "np.cumsum(a)"
   ]
  },
  {
   "cell_type": "code",
   "execution_count": 71,
   "metadata": {},
   "outputs": [
    {
     "data": {
      "text/plain": [
       "array([[1, 2, 3],\n",
       "       [5, 7, 9]], dtype=int32)"
      ]
     },
     "execution_count": 71,
     "metadata": {},
     "output_type": "execute_result"
    }
   ],
   "source": [
    "np.cumsum(a,axis=0) "
   ]
  },
  {
   "cell_type": "markdown",
   "metadata": {},
   "source": [
    "##### numpy.diff\n",
    "numpy.diff(a, n=1, axis=-1, prepend=<no value>, append=<no value>)\n",
    "    \n",
    "Calculate the n-th discrete difference along the given axis.\n",
    "\n",
    "The first difference is given by out[n] = a[n+1] - a[n] along the given axis, higher differences are calculated by using diff recursively.\n",
    "\n"
   ]
  },
  {
   "cell_type": "code",
   "execution_count": 72,
   "metadata": {},
   "outputs": [
    {
     "data": {
      "text/plain": [
       "array([255], dtype=uint8)"
      ]
     },
     "execution_count": 72,
     "metadata": {},
     "output_type": "execute_result"
    }
   ],
   "source": [
    "u8_arr = np.array([1, 0], dtype=np.uint8)\n",
    "np.diff(u8_arr)"
   ]
  },
  {
   "cell_type": "code",
   "execution_count": 73,
   "metadata": {},
   "outputs": [
    {
     "data": {
      "text/plain": [
       "array([ 1,  2,  3, -7])"
      ]
     },
     "execution_count": 73,
     "metadata": {},
     "output_type": "execute_result"
    }
   ],
   "source": [
    "x = np.array([1, 2, 4, 7, 0])\n",
    "np.diff(x)"
   ]
  },
  {
   "cell_type": "code",
   "execution_count": 75,
   "metadata": {},
   "outputs": [
    {
     "data": {
      "text/plain": [
       "array([1, 1, 2, 2])"
      ]
     },
     "execution_count": 75,
     "metadata": {},
     "output_type": "execute_result"
    }
   ],
   "source": [
    "y = np.array([1,2,3,5,7])\n",
    "np.diff(y)"
   ]
  },
  {
   "cell_type": "markdown",
   "metadata": {},
   "source": [
    "#### Dot product\n",
    "Dot product of two arrays. Specifically,\n",
    "\n",
    "If both a and b are 1-D arrays, it is inner product of vectors (without complex conjugation).\n",
    "\n",
    "If both a and b are 2-D arrays, it is matrix multiplication, but using matmul or a @ b is preferred.\n",
    "\n",
    "If either a or b is 0-D (scalar), it is equivalent to multiply and using numpy.multiply(a, b) or a * b is preferred.\n",
    "\n",
    "If a is an N-D array and b is a 1-D array, it is a sum product over the last axis of a and b.\n",
    "\n",
    "If a is an N-D array and b is an M-D array (where M>=2), it is a sum product over the last axis of a and the second-to-last axis of b:"
   ]
  },
  {
   "cell_type": "code",
   "execution_count": 76,
   "metadata": {},
   "outputs": [
    {
     "data": {
      "text/plain": [
       "12"
      ]
     },
     "execution_count": 76,
     "metadata": {},
     "output_type": "execute_result"
    }
   ],
   "source": [
    "np.dot(3, 4)"
   ]
  },
  {
   "cell_type": "code",
   "execution_count": 74,
   "metadata": {},
   "outputs": [
    {
     "data": {
      "text/plain": [
       "array([[4, 1],\n",
       "       [2, 2]])"
      ]
     },
     "execution_count": 74,
     "metadata": {},
     "output_type": "execute_result"
    }
   ],
   "source": [
    "a = [[1, 0], [0, 1]]\n",
    "b = [[4, 1], [2, 2]]\n",
    "np.dot(a,b)"
   ]
  },
  {
   "cell_type": "markdown",
   "metadata": {},
   "source": [
    "#### numpy.floor\n",
    "Return the floor of the input, element-wise.\n",
    "\n",
    "The floor of the scalar x is the largest integer i, such that i <= x. It is often denoted as \\lfloor x \\rfloor."
   ]
  },
  {
   "cell_type": "code",
   "execution_count": 75,
   "metadata": {},
   "outputs": [
    {
     "data": {
      "text/plain": [
       "array([-2., -2., -1.,  0.,  1.,  1.,  2.])"
      ]
     },
     "execution_count": 75,
     "metadata": {},
     "output_type": "execute_result"
    }
   ],
   "source": [
    "a = np.array([-1.7, -1.5, -0.2, 0.2, 1.5, 1.7, 2.0])\n",
    "np.floor(a)"
   ]
  },
  {
   "cell_type": "markdown",
   "metadata": {},
   "source": [
    "#### numpy.inner\n",
    "Inner product of two arrays.\n",
    "\n",
    "Ordinary inner product of vectors for 1-D arrays (without complex conjugation), in higher dimensions a sum product over the last axes."
   ]
  },
  {
   "cell_type": "code",
   "execution_count": 76,
   "metadata": {},
   "outputs": [
    {
     "data": {
      "text/plain": [
       "2"
      ]
     },
     "execution_count": 76,
     "metadata": {},
     "output_type": "execute_result"
    }
   ],
   "source": [
    "a = np.array([1,2,3])\n",
    "b = np.array([0,1,0])\n",
    "np.inner(a, b)"
   ]
  },
  {
   "cell_type": "code",
   "execution_count": 77,
   "metadata": {},
   "outputs": [
    {
     "data": {
      "text/plain": [
       "array([[14, 14],\n",
       "       [14, 14]])"
      ]
     },
     "execution_count": 77,
     "metadata": {},
     "output_type": "execute_result"
    }
   ],
   "source": [
    "a =np.array([[1,2,3],[1,2,3]])\n",
    "b = np.array([[1,2,3],[1,2,3]])\n",
    "#c = np.array([[1,2,3],[1,2,3]])\n",
    "np.inner(a,b)"
   ]
  },
  {
   "cell_type": "code",
   "execution_count": 78,
   "metadata": {},
   "outputs": [
    {
     "data": {
      "text/plain": [
       "array([[ 14,  38,  62],\n",
       "       [ 86, 110, 134]])"
      ]
     },
     "execution_count": 78,
     "metadata": {},
     "output_type": "execute_result"
    }
   ],
   "source": [
    "a = np.arange(24).reshape((2,3,4))\n",
    "b = np.arange(4)\n",
    "np.inner(a, b)"
   ]
  },
  {
   "cell_type": "code",
   "execution_count": 79,
   "metadata": {},
   "outputs": [
    {
     "data": {
      "text/plain": [
       "array([2, 4, 6, 5, 3, 1, 0], dtype=int64)"
      ]
     },
     "execution_count": 79,
     "metadata": {},
     "output_type": "execute_result"
    }
   ],
   "source": [
    "#### numpy.lexsort\n",
    "a = [1,5,1,4,3,4,4] # First column\n",
    "b = [9,4,0,4,0,2,1] # Second column\n",
    "ind = np.lexsort((a,b)) # Sort by a, then by b\n",
    "ind"
   ]
  },
  {
   "cell_type": "code",
   "execution_count": 80,
   "metadata": {},
   "outputs": [
    {
     "data": {
      "text/plain": [
       "array([1, 0, 2], dtype=int64)"
      ]
     },
     "execution_count": 80,
     "metadata": {},
     "output_type": "execute_result"
    }
   ],
   "source": [
    "a =[1,2,4]\n",
    "b = [3,2,5]\n",
    "np.lexsort((a,b))"
   ]
  },
  {
   "cell_type": "code",
   "execution_count": 81,
   "metadata": {},
   "outputs": [],
   "source": [
    "import numpy as np\n",
    "np.lexsort?"
   ]
  },
  {
   "cell_type": "markdown",
   "metadata": {},
   "source": [
    "#### numpy.maximum\n",
    "Element-wise maximum of array elements.\n",
    "\n",
    "Compare two arrays and returns a new array containing the element-wise maxima. If one of the elements being compared is a NaN, then that element is returned. If both elements are NaNs then the first is returned. The latter distinction is important for complex NaNs, which are defined as at least one of the real or imaginary parts being a NaN. The net effect is that NaNs are propagated."
   ]
  },
  {
   "cell_type": "code",
   "execution_count": 84,
   "metadata": {},
   "outputs": [
    {
     "data": {
      "text/plain": [
       "array([2, 5, 4])"
      ]
     },
     "execution_count": 84,
     "metadata": {},
     "output_type": "execute_result"
    }
   ],
   "source": [
    "np.maximum([2, 3, 4], [1, 5, 2])"
   ]
  },
  {
   "cell_type": "code",
   "execution_count": 85,
   "metadata": {},
   "outputs": [
    {
     "data": {
      "text/plain": [
       "array([[1. , 2. ],\n",
       "       [0.5, 2. ]])"
      ]
     },
     "execution_count": 85,
     "metadata": {},
     "output_type": "execute_result"
    }
   ],
   "source": [
    "np.maximum(np.eye(2), [0.5, 2]) # broadcasting"
   ]
  },
  {
   "cell_type": "code",
   "execution_count": 88,
   "metadata": {},
   "outputs": [
    {
     "data": {
      "text/plain": [
       "array([[1., 0.],\n",
       "       [0., 1.]])"
      ]
     },
     "execution_count": 88,
     "metadata": {},
     "output_type": "execute_result"
    }
   ],
   "source": [
    "np.minimum(np.eye(2),[2,2])"
   ]
  },
  {
   "cell_type": "markdown",
   "metadata": {},
   "source": [
    "#### numpy.mean\n",
    "Compute the arithmetic mean along the specified axis.\n",
    "\n",
    "\n",
    "Returns the average of the array elements. The average is taken over the flattened array by default, otherwise over the specified axis. float64 intermediate and return values are used for integer inputs.\n",
    "\n",
    "![](https://lh3.googleusercontent.com/-tVF0JnkvYTc/XThg_LQF7NI/AAAAAAAAgGU/nvc8QA5CvnwuCXMY8yASxXV8h1sYSK6YQCK8BGAs/s0/Mean.PNG)"
   ]
  },
  {
   "cell_type": "code",
   "execution_count": 77,
   "metadata": {},
   "outputs": [
    {
     "data": {
      "text/plain": [
       "2.5"
      ]
     },
     "execution_count": 77,
     "metadata": {},
     "output_type": "execute_result"
    }
   ],
   "source": [
    "a = np.array([[1, 2], [3, 4]])\n",
    "np.mean(a)"
   ]
  },
  {
   "cell_type": "code",
   "execution_count": 78,
   "metadata": {},
   "outputs": [
    {
     "data": {
      "text/plain": [
       "array([1.5, 3.5])"
      ]
     },
     "execution_count": 78,
     "metadata": {},
     "output_type": "execute_result"
    }
   ],
   "source": [
    "np.mean(a,axis=1)"
   ]
  },
  {
   "cell_type": "code",
   "execution_count": 112,
   "metadata": {},
   "outputs": [
    {
     "data": {
      "text/plain": [
       "array([2., 3.])"
      ]
     },
     "execution_count": 112,
     "metadata": {},
     "output_type": "execute_result"
    }
   ],
   "source": [
    "np.mean(a,axis=0)"
   ]
  },
  {
   "cell_type": "markdown",
   "metadata": {},
   "source": [
    "#### numpy.median\n",
    "Compute the median along the specified axis.\n",
    "\n",
    "Returns the median of the array elements.\n",
    "![](https://lh3.googleusercontent.com/-pTXTvJYH3wo/XThhnhBOkxI/AAAAAAAAgGg/OqIUQoMbTcEPXPcOmVEpDrfVcF-bbDzdACK8BGAs/s220/2019-07-24.png)"
   ]
  },
  {
   "cell_type": "code",
   "execution_count": 80,
   "metadata": {},
   "outputs": [
    {
     "data": {
      "text/plain": [
       "6.0"
      ]
     },
     "execution_count": 80,
     "metadata": {},
     "output_type": "execute_result"
    }
   ],
   "source": [
    "x = np.array([1,3,3,6,7,8,9])\n",
    "np.median(x)"
   ]
  },
  {
   "cell_type": "code",
   "execution_count": 90,
   "metadata": {
    "scrolled": true
   },
   "outputs": [
    {
     "name": "stdout",
     "output_type": "stream",
     "text": [
      "[[10  7  4]\n",
      " [ 3  2  1]]\n"
     ]
    },
    {
     "data": {
      "text/plain": [
       "3.5"
      ]
     },
     "execution_count": 90,
     "metadata": {},
     "output_type": "execute_result"
    }
   ],
   "source": [
    "a = np.array([[10, 7, 4], [3, 2, 1]])\n",
    "print(a)\n",
    "np.median(a)"
   ]
  },
  {
   "cell_type": "code",
   "execution_count": 59,
   "metadata": {},
   "outputs": [
    {
     "data": {
      "text/plain": [
       "array([6.5, 4.5, 2.5])"
      ]
     },
     "execution_count": 59,
     "metadata": {},
     "output_type": "execute_result"
    }
   ],
   "source": [
    "np.median(a, axis=0)"
   ]
  },
  {
   "cell_type": "code",
   "execution_count": 61,
   "metadata": {},
   "outputs": [
    {
     "data": {
      "text/plain": [
       "array([7., 2.])"
      ]
     },
     "execution_count": 61,
     "metadata": {},
     "output_type": "execute_result"
    }
   ],
   "source": [
    "np.median(a, axis=1)"
   ]
  },
  {
   "cell_type": "markdown",
   "metadata": {},
   "source": [
    "#### numpy.minimum\n",
    "\n",
    "Element-wise minimum of array elements.\n",
    "\n",
    "Compare two arrays and returns a new array containing the element-wise minima. If one of the elements being compared is a NaN, then that element is returned. If both elements are NaNs then the first is returned. The latter distinction is important for complex NaNs, which are defined as at least one of the real or imaginary parts being a NaN. The net effect is that NaNs are propagated."
   ]
  },
  {
   "cell_type": "code",
   "execution_count": 113,
   "metadata": {},
   "outputs": [
    {
     "data": {
      "text/plain": [
       "array([1, 3, 2])"
      ]
     },
     "execution_count": 113,
     "metadata": {},
     "output_type": "execute_result"
    }
   ],
   "source": [
    "np.minimum([2, 3, 4], [1, 5, 2])"
   ]
  },
  {
   "cell_type": "code",
   "execution_count": 65,
   "metadata": {},
   "outputs": [
    {
     "data": {
      "text/plain": [
       "array([[0.5, 0. ],\n",
       "       [0. , 1. ]])"
      ]
     },
     "execution_count": 65,
     "metadata": {},
     "output_type": "execute_result"
    }
   ],
   "source": [
    "np.minimum(np.eye(2), [0.5, 2])"
   ]
  },
  {
   "cell_type": "markdown",
   "metadata": {},
   "source": [
    "#### numpy.nonzero\n",
    "Return the indices of the elements that are non-zero.\n",
    "\n",
    "Returns a tuple of arrays, one for each dimension of a, containing the indices of the non-zero elements in that dimension. The values in a are always tested and returned in row-major, C-style order. The corresponding non-zero values can be obtained with:"
   ]
  },
  {
   "cell_type": "code",
   "execution_count": 94,
   "metadata": {},
   "outputs": [
    {
     "data": {
      "text/plain": [
       "(array([0, 1, 2], dtype=int64), array([0, 1, 0], dtype=int64))"
      ]
     },
     "execution_count": 94,
     "metadata": {},
     "output_type": "execute_result"
    }
   ],
   "source": [
    "x = np.array([[3, 0, 0], [0, 4, 0], [5, 0, 0]])\n",
    "np.nonzero(x)"
   ]
  },
  {
   "cell_type": "markdown",
   "metadata": {},
   "source": [
    "##### numpy.outer\n",
    "\n",
    "Compute the outer product of two vectors.\n",
    "\n",
    "Given two vectors, a = [a0, a1, ..., aM] and b = [b0, b1, ..., bN], the outer product [1] is:"
   ]
  },
  {
   "cell_type": "code",
   "execution_count": 83,
   "metadata": {},
   "outputs": [
    {
     "data": {
      "text/plain": [
       "array([[-2., -1.,  0.,  1.,  2.],\n",
       "       [-2., -1.,  0.,  1.,  2.],\n",
       "       [-2., -1.,  0.,  1.,  2.],\n",
       "       [-2., -1.,  0.,  1.,  2.],\n",
       "       [-2., -1.,  0.,  1.,  2.]])"
      ]
     },
     "execution_count": 83,
     "metadata": {},
     "output_type": "execute_result"
    }
   ],
   "source": [
    "rl = np.outer(np.ones((5,)), np.linspace(-2, 2, 5))\n",
    "rl"
   ]
  },
  {
   "cell_type": "markdown",
   "metadata": {},
   "source": [
    "#### numpy.prod\n",
    "\n",
    "Return the product of array elements over a given axis."
   ]
  },
  {
   "cell_type": "code",
   "execution_count": 84,
   "metadata": {},
   "outputs": [
    {
     "data": {
      "text/plain": [
       "6"
      ]
     },
     "execution_count": 84,
     "metadata": {},
     "output_type": "execute_result"
    }
   ],
   "source": [
    "x = np.array([1, 2, 3], dtype=np.uint8)\n",
    "np.prod(x)"
   ]
  },
  {
   "cell_type": "markdown",
   "metadata": {},
   "source": [
    "#### sort\n",
    "Return a sorted copy of an array."
   ]
  },
  {
   "cell_type": "code",
   "execution_count": 97,
   "metadata": {},
   "outputs": [
    {
     "data": {
      "text/plain": [
       "array([[1, 2, 4],\n",
       "       [1, 3, 6]])"
      ]
     },
     "execution_count": 97,
     "metadata": {},
     "output_type": "execute_result"
    }
   ],
   "source": [
    ">>> a = np.array([[1,4,2],[3,1,6]])\n",
    ">>> np.sort(a)   "
   ]
  },
  {
   "cell_type": "markdown",
   "metadata": {},
   "source": [
    "#### standard deviation\n",
    "Compute the standard deviation along the specified axis.\n",
    "\n",
    "Returns the standard deviation, a measure of the spread of a distribution, of the array elements. The standard deviation is computed for the flattened array by default, otherwise over the specified axis.\n",
    "![](https://lh3.googleusercontent.com/-neXTsbjg7FM/XThjTzcexXI/AAAAAAAAgG4/wsS_wdIc4KATvbddmkpu_PvepL-8U61PwCK8BGAs/s0/Std.PNG)"
   ]
  },
  {
   "cell_type": "code",
   "execution_count": 86,
   "metadata": {},
   "outputs": [
    {
     "name": "stdout",
     "output_type": "stream",
     "text": [
      "[[1 3]\n",
      " [4 5]]\n"
     ]
    },
    {
     "data": {
      "text/plain": [
       "1.479019945774904"
      ]
     },
     "execution_count": 86,
     "metadata": {},
     "output_type": "execute_result"
    }
   ],
   "source": [
    "a = np.array([[1, 3], [4, 5]])\n",
    "print(a)\n",
    "np.std(a)"
   ]
  },
  {
   "cell_type": "code",
   "execution_count": 87,
   "metadata": {},
   "outputs": [
    {
     "data": {
      "text/plain": [
       "array([1.5, 1. ])"
      ]
     },
     "execution_count": 87,
     "metadata": {},
     "output_type": "execute_result"
    }
   ],
   "source": [
    "np.std(a, axis=0)"
   ]
  },
  {
   "cell_type": "code",
   "execution_count": 88,
   "metadata": {},
   "outputs": [
    {
     "data": {
      "text/plain": [
       "array([1. , 0.5])"
      ]
     },
     "execution_count": 88,
     "metadata": {},
     "output_type": "execute_result"
    }
   ],
   "source": [
    "np.std(a,axis=1)"
   ]
  },
  {
   "cell_type": "markdown",
   "metadata": {},
   "source": [
    "#### numpy.sum\n",
    "Sum of array elements over a given axis."
   ]
  },
  {
   "cell_type": "code",
   "execution_count": 89,
   "metadata": {},
   "outputs": [
    {
     "data": {
      "text/plain": [
       "2.0"
      ]
     },
     "execution_count": 89,
     "metadata": {},
     "output_type": "execute_result"
    }
   ],
   "source": [
    "np.sum([0.5, 1.5])"
   ]
  },
  {
   "cell_type": "markdown",
   "metadata": {},
   "source": [
    "#### numpy.trace\n",
    "\n",
    "Return the sum along diagonals of the array.\n",
    "\n",
    "If a is 2-D, the sum along its diagonal with the given offset is returned, i.e., the sum of elements a[i,i+offset] for all i.\n",
    "\n",
    "If a has more than two dimensions, then the axes specified by axis1 and axis2 are used to determine the 2-D sub-arrays whose traces are returned. The shape of the resulting array is the same as that of a with axis1 and axis2 removed."
   ]
  },
  {
   "cell_type": "code",
   "execution_count": 90,
   "metadata": {},
   "outputs": [
    {
     "data": {
      "text/plain": [
       "4.0"
      ]
     },
     "execution_count": 90,
     "metadata": {},
     "output_type": "execute_result"
    }
   ],
   "source": [
    "np.trace(np.eye(4))"
   ]
  },
  {
   "cell_type": "markdown",
   "metadata": {},
   "source": [
    "#### numpy.transpose\n",
    "\n",
    "Permute the dimensions of an array."
   ]
  },
  {
   "cell_type": "code",
   "execution_count": 91,
   "metadata": {},
   "outputs": [
    {
     "data": {
      "text/plain": [
       "array([[1, 2],\n",
       "       [3, 4]])"
      ]
     },
     "execution_count": 91,
     "metadata": {},
     "output_type": "execute_result"
    }
   ],
   "source": [
    "x = np.arange(1,5).reshape((2,2))\n",
    "x"
   ]
  },
  {
   "cell_type": "code",
   "execution_count": 92,
   "metadata": {},
   "outputs": [
    {
     "data": {
      "text/plain": [
       "array([[1, 3],\n",
       "       [2, 4]])"
      ]
     },
     "execution_count": 92,
     "metadata": {},
     "output_type": "execute_result"
    }
   ],
   "source": [
    "np.transpose(x)"
   ]
  },
  {
   "cell_type": "code",
   "execution_count": 93,
   "metadata": {},
   "outputs": [
    {
     "data": {
      "text/plain": [
       "array([[1, 3],\n",
       "       [2, 4]])"
      ]
     },
     "execution_count": 93,
     "metadata": {},
     "output_type": "execute_result"
    }
   ],
   "source": [
    "x.T"
   ]
  },
  {
   "cell_type": "markdown",
   "metadata": {},
   "source": [
    "#### numpy.var\n",
    "\n",
    "Compute the variance along the specified axis.\n",
    "\n",
    "Returns the variance of the array elements, a measure of the spread of a distribution. The variance is computed for the flattened array by default, otherwise over the specified axis."
   ]
  },
  {
   "cell_type": "code",
   "execution_count": 95,
   "metadata": {},
   "outputs": [
    {
     "name": "stdout",
     "output_type": "stream",
     "text": [
      "1.25 \n",
      "\n"
     ]
    }
   ],
   "source": [
    "a = np.array([[1, 2], [3, 4]])\n",
    "print(np.var(a),\"\\n\")"
   ]
  },
  {
   "cell_type": "code",
   "execution_count": 97,
   "metadata": {},
   "outputs": [
    {
     "name": "stdout",
     "output_type": "stream",
     "text": [
      "[1. 1.] \n",
      "\n",
      "[0.25 0.25] \n",
      "\n"
     ]
    }
   ],
   "source": [
    "print(np.var(a, axis=0),\"\\n\")\n",
    "\n",
    "print(np.var(a, axis=1),\"\\n\")"
   ]
  },
  {
   "cell_type": "markdown",
   "metadata": {},
   "source": [
    "#### numpy.vdot(a, b)\n",
    "Return the dot product of two vectors.\n",
    "\n",
    "The vdot(a, b) function handles complex numbers differently than dot(a, b). If the first argument is complex the complex conjugate of the first argument is used for the calculation of the dot product.\n",
    "\n",
    "Note that vdot handles multidimensional arrays differently than dot: it does not perform a matrix product, but flattens input arguments to 1-D vectors first. Consequently, it should only be used for vectors."
   ]
  },
  {
   "cell_type": "code",
   "execution_count": 100,
   "metadata": {
    "scrolled": true
   },
   "outputs": [
    {
     "name": "stdout",
     "output_type": "stream",
     "text": [
      "1\n",
      "[5.+6.j 7.+8.j]\n"
     ]
    },
    {
     "data": {
      "text/plain": [
       "(70-8j)"
      ]
     },
     "execution_count": 100,
     "metadata": {},
     "output_type": "execute_result"
    }
   ],
   "source": [
    "a = np.array([1+2j,3+4j])\n",
    "b = np.array([5+6j,7+8j])\n",
    "print(a.ndim)\n",
    "print(b)\n",
    "np.vdot(a, b)"
   ]
  },
  {
   "cell_type": "markdown",
   "metadata": {},
   "source": [
    "#### numpy.vectorize\n",
    "\n",
    "Generalized function class.\n",
    "\n",
    "Define a vectorized function which takes a nested sequence of objects or numpy arrays as inputs and returns a single numpy array or a tuple of numpy arrays. The vectorized function evaluates pyfunc over successive tuples of the input arrays like the python map function, except it uses the broadcasting rules of numpy.\n",
    "\n",
    "The data type of the output of vectorized is determined by calling the function with the first element of the input. This can be avoided by specifying the otypes argument."
   ]
  },
  {
   "cell_type": "code",
   "execution_count": 105,
   "metadata": {},
   "outputs": [],
   "source": [
    "def myfunc(a, b):\n",
    "...     \"Return a-b if a>b, otherwise return a+b\"\n",
    "...     if a > b:\n",
    "...         return a - b\n",
    "...     else:\n",
    "...         return a + b"
   ]
  },
  {
   "cell_type": "code",
   "execution_count": 109,
   "metadata": {},
   "outputs": [
    {
     "name": "stdout",
     "output_type": "stream",
     "text": [
      "Return a-b if a>b, otherwise return a+b\n"
     ]
    },
    {
     "data": {
      "text/plain": [
       "array([3, 4, 1, 2])"
      ]
     },
     "execution_count": 109,
     "metadata": {},
     "output_type": "execute_result"
    }
   ],
   "source": [
    "vfunc = np.vectorize(myfunc)\n",
    "print(vfunc.__doc__)\n",
    "vfunc([1, 2, 3, 4], 2)"
   ]
  },
  {
   "cell_type": "markdown",
   "metadata": {},
   "source": [
    "##### numpy.where\n",
    "numpy.where(condition[, x, y])\n",
    "\n",
    "\n",
    "Return elements chosen from x or y depending on condition."
   ]
  },
  {
   "cell_type": "code",
   "execution_count": 112,
   "metadata": {},
   "outputs": [
    {
     "data": {
      "text/plain": [
       "array([ 0,  1,  2,  3,  4, 50, 60, 70, 80, 90])"
      ]
     },
     "execution_count": 112,
     "metadata": {},
     "output_type": "execute_result"
    }
   ],
   "source": [
    "a = np.arange(10)\n",
    "np.where(a < 5, a, 10*a)"
   ]
  },
  {
   "cell_type": "code",
   "execution_count": null,
   "metadata": {},
   "outputs": [],
   "source": []
  }
 ],
 "metadata": {
  "kernelspec": {
   "display_name": "Python 3",
   "language": "python",
   "name": "python3"
  },
  "language_info": {
   "codemirror_mode": {
    "name": "ipython",
    "version": 3
   },
   "file_extension": ".py",
   "mimetype": "text/x-python",
   "name": "python",
   "nbconvert_exporter": "python",
   "pygments_lexer": "ipython3",
   "version": "3.6.3"
  }
 },
 "nbformat": 4,
 "nbformat_minor": 2
}
